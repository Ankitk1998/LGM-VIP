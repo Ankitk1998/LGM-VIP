{
 "cells": [
  {
   "cell_type": "markdown",
   "id": "d3cbbbd3",
   "metadata": {},
   "source": [
    "## LGM- VIRTUAL INTERNSHIP PROGRAM: DATA SCIENCE"
   ]
  },
  {
   "cell_type": "markdown",
   "id": "568aaaa8",
   "metadata": {},
   "source": [
    "## BATCH: JULY 2022"
   ]
  },
  {
   "cell_type": "markdown",
   "id": "5a1148e7",
   "metadata": {},
   "source": [
    "## TASK: 3 Stock Market Prediction And Forecasting Using Stacked LSTM"
   ]
  },
  {
   "cell_type": "markdown",
   "id": "c32d5905",
   "metadata": {},
   "source": [
    "## LEVEL: BEGINNER"
   ]
  },
  {
   "cell_type": "markdown",
   "id": "380feb9d",
   "metadata": {},
   "source": [
    "## AUTHOR: ANKIT KALAMBHE"
   ]
  },
  {
   "cell_type": "code",
   "execution_count": null,
   "id": "d5f89a1a",
   "metadata": {},
   "outputs": [],
   "source": []
  },
  {
   "cell_type": "markdown",
   "id": "5e29c20b",
   "metadata": {},
   "source": [
    "### Import the Libraries"
   ]
  },
  {
   "cell_type": "code",
   "execution_count": 3,
   "id": "7248e824",
   "metadata": {},
   "outputs": [],
   "source": [
    "import pandas as pd\n",
    "from matplotlib import pyplot as plt\n",
    "import numpy as np\n",
    "import seaborn as sns"
   ]
  },
  {
   "cell_type": "markdown",
   "id": "8104f7ee",
   "metadata": {},
   "source": [
    "### Loading Datast"
   ]
  },
  {
   "cell_type": "code",
   "execution_count": 5,
   "id": "86cc36ec",
   "metadata": {},
   "outputs": [
    {
     "data": {
      "text/html": [
       "<div>\n",
       "<style scoped>\n",
       "    .dataframe tbody tr th:only-of-type {\n",
       "        vertical-align: middle;\n",
       "    }\n",
       "\n",
       "    .dataframe tbody tr th {\n",
       "        vertical-align: top;\n",
       "    }\n",
       "\n",
       "    .dataframe thead th {\n",
       "        text-align: right;\n",
       "    }\n",
       "</style>\n",
       "<table border=\"1\" class=\"dataframe\">\n",
       "  <thead>\n",
       "    <tr style=\"text-align: right;\">\n",
       "      <th></th>\n",
       "      <th>Date</th>\n",
       "      <th>Open</th>\n",
       "      <th>High</th>\n",
       "      <th>Low</th>\n",
       "      <th>Last</th>\n",
       "      <th>Close</th>\n",
       "      <th>Total Trade Quantity</th>\n",
       "      <th>Turnover (Lacs)</th>\n",
       "    </tr>\n",
       "  </thead>\n",
       "  <tbody>\n",
       "    <tr>\n",
       "      <th>0</th>\n",
       "      <td>2018-09-28</td>\n",
       "      <td>234.05</td>\n",
       "      <td>235.95</td>\n",
       "      <td>230.20</td>\n",
       "      <td>233.50</td>\n",
       "      <td>233.75</td>\n",
       "      <td>3069914</td>\n",
       "      <td>7162.35</td>\n",
       "    </tr>\n",
       "    <tr>\n",
       "      <th>1</th>\n",
       "      <td>2018-09-27</td>\n",
       "      <td>234.55</td>\n",
       "      <td>236.80</td>\n",
       "      <td>231.10</td>\n",
       "      <td>233.80</td>\n",
       "      <td>233.25</td>\n",
       "      <td>5082859</td>\n",
       "      <td>11859.95</td>\n",
       "    </tr>\n",
       "    <tr>\n",
       "      <th>2</th>\n",
       "      <td>2018-09-26</td>\n",
       "      <td>240.00</td>\n",
       "      <td>240.00</td>\n",
       "      <td>232.50</td>\n",
       "      <td>235.00</td>\n",
       "      <td>234.25</td>\n",
       "      <td>2240909</td>\n",
       "      <td>5248.60</td>\n",
       "    </tr>\n",
       "    <tr>\n",
       "      <th>3</th>\n",
       "      <td>2018-09-25</td>\n",
       "      <td>233.30</td>\n",
       "      <td>236.75</td>\n",
       "      <td>232.00</td>\n",
       "      <td>236.25</td>\n",
       "      <td>236.10</td>\n",
       "      <td>2349368</td>\n",
       "      <td>5503.90</td>\n",
       "    </tr>\n",
       "    <tr>\n",
       "      <th>4</th>\n",
       "      <td>2018-09-24</td>\n",
       "      <td>233.55</td>\n",
       "      <td>239.20</td>\n",
       "      <td>230.75</td>\n",
       "      <td>234.00</td>\n",
       "      <td>233.30</td>\n",
       "      <td>3423509</td>\n",
       "      <td>7999.55</td>\n",
       "    </tr>\n",
       "  </tbody>\n",
       "</table>\n",
       "</div>"
      ],
      "text/plain": [
       "         Date    Open    High     Low    Last   Close  Total Trade Quantity  \\\n",
       "0  2018-09-28  234.05  235.95  230.20  233.50  233.75               3069914   \n",
       "1  2018-09-27  234.55  236.80  231.10  233.80  233.25               5082859   \n",
       "2  2018-09-26  240.00  240.00  232.50  235.00  234.25               2240909   \n",
       "3  2018-09-25  233.30  236.75  232.00  236.25  236.10               2349368   \n",
       "4  2018-09-24  233.55  239.20  230.75  234.00  233.30               3423509   \n",
       "\n",
       "   Turnover (Lacs)  \n",
       "0          7162.35  \n",
       "1         11859.95  \n",
       "2          5248.60  \n",
       "3          5503.90  \n",
       "4          7999.55  "
      ]
     },
     "execution_count": 5,
     "metadata": {},
     "output_type": "execute_result"
    }
   ],
   "source": [
    "df = pd.read_csv(\"NSE-TATAGLOBAL.csv\")\n",
    "df.head()"
   ]
  },
  {
   "cell_type": "markdown",
   "id": "ea84c7ec",
   "metadata": {},
   "source": [
    "### Preview the Dataset"
   ]
  },
  {
   "cell_type": "code",
   "execution_count": 6,
   "id": "f95a442e",
   "metadata": {},
   "outputs": [
    {
     "data": {
      "text/html": [
       "<div>\n",
       "<style scoped>\n",
       "    .dataframe tbody tr th:only-of-type {\n",
       "        vertical-align: middle;\n",
       "    }\n",
       "\n",
       "    .dataframe tbody tr th {\n",
       "        vertical-align: top;\n",
       "    }\n",
       "\n",
       "    .dataframe thead th {\n",
       "        text-align: right;\n",
       "    }\n",
       "</style>\n",
       "<table border=\"1\" class=\"dataframe\">\n",
       "  <thead>\n",
       "    <tr style=\"text-align: right;\">\n",
       "      <th></th>\n",
       "      <th>Date</th>\n",
       "      <th>Open</th>\n",
       "      <th>High</th>\n",
       "      <th>Low</th>\n",
       "      <th>Last</th>\n",
       "      <th>Close</th>\n",
       "      <th>Total Trade Quantity</th>\n",
       "      <th>Turnover (Lacs)</th>\n",
       "    </tr>\n",
       "  </thead>\n",
       "  <tbody>\n",
       "    <tr>\n",
       "      <th>2030</th>\n",
       "      <td>2010-07-27</td>\n",
       "      <td>117.6</td>\n",
       "      <td>119.50</td>\n",
       "      <td>112.00</td>\n",
       "      <td>118.80</td>\n",
       "      <td>118.65</td>\n",
       "      <td>586100</td>\n",
       "      <td>694.98</td>\n",
       "    </tr>\n",
       "    <tr>\n",
       "      <th>2031</th>\n",
       "      <td>2010-07-26</td>\n",
       "      <td>120.1</td>\n",
       "      <td>121.00</td>\n",
       "      <td>117.10</td>\n",
       "      <td>117.10</td>\n",
       "      <td>117.60</td>\n",
       "      <td>658440</td>\n",
       "      <td>780.01</td>\n",
       "    </tr>\n",
       "    <tr>\n",
       "      <th>2032</th>\n",
       "      <td>2010-07-23</td>\n",
       "      <td>121.8</td>\n",
       "      <td>121.95</td>\n",
       "      <td>120.25</td>\n",
       "      <td>120.35</td>\n",
       "      <td>120.65</td>\n",
       "      <td>281312</td>\n",
       "      <td>340.31</td>\n",
       "    </tr>\n",
       "    <tr>\n",
       "      <th>2033</th>\n",
       "      <td>2010-07-22</td>\n",
       "      <td>120.3</td>\n",
       "      <td>122.00</td>\n",
       "      <td>120.25</td>\n",
       "      <td>120.75</td>\n",
       "      <td>120.90</td>\n",
       "      <td>293312</td>\n",
       "      <td>355.17</td>\n",
       "    </tr>\n",
       "    <tr>\n",
       "      <th>2034</th>\n",
       "      <td>2010-07-21</td>\n",
       "      <td>122.1</td>\n",
       "      <td>123.00</td>\n",
       "      <td>121.05</td>\n",
       "      <td>121.10</td>\n",
       "      <td>121.55</td>\n",
       "      <td>658666</td>\n",
       "      <td>803.56</td>\n",
       "    </tr>\n",
       "  </tbody>\n",
       "</table>\n",
       "</div>"
      ],
      "text/plain": [
       "            Date   Open    High     Low    Last   Close  Total Trade Quantity  \\\n",
       "2030  2010-07-27  117.6  119.50  112.00  118.80  118.65                586100   \n",
       "2031  2010-07-26  120.1  121.00  117.10  117.10  117.60                658440   \n",
       "2032  2010-07-23  121.8  121.95  120.25  120.35  120.65                281312   \n",
       "2033  2010-07-22  120.3  122.00  120.25  120.75  120.90                293312   \n",
       "2034  2010-07-21  122.1  123.00  121.05  121.10  121.55                658666   \n",
       "\n",
       "      Turnover (Lacs)  \n",
       "2030           694.98  \n",
       "2031           780.01  \n",
       "2032           340.31  \n",
       "2033           355.17  \n",
       "2034           803.56  "
      ]
     },
     "execution_count": 6,
     "metadata": {},
     "output_type": "execute_result"
    }
   ],
   "source": [
    "df.tail()"
   ]
  },
  {
   "cell_type": "code",
   "execution_count": 7,
   "id": "70c87894",
   "metadata": {},
   "outputs": [
    {
     "data": {
      "text/plain": [
       "(2035, 8)"
      ]
     },
     "execution_count": 7,
     "metadata": {},
     "output_type": "execute_result"
    }
   ],
   "source": [
    "df.shape"
   ]
  },
  {
   "cell_type": "code",
   "execution_count": 8,
   "id": "3d24f91f",
   "metadata": {},
   "outputs": [
    {
     "data": {
      "text/html": [
       "<div>\n",
       "<style scoped>\n",
       "    .dataframe tbody tr th:only-of-type {\n",
       "        vertical-align: middle;\n",
       "    }\n",
       "\n",
       "    .dataframe tbody tr th {\n",
       "        vertical-align: top;\n",
       "    }\n",
       "\n",
       "    .dataframe thead th {\n",
       "        text-align: right;\n",
       "    }\n",
       "</style>\n",
       "<table border=\"1\" class=\"dataframe\">\n",
       "  <thead>\n",
       "    <tr style=\"text-align: right;\">\n",
       "      <th></th>\n",
       "      <th>Open</th>\n",
       "      <th>High</th>\n",
       "      <th>Low</th>\n",
       "      <th>Last</th>\n",
       "      <th>Close</th>\n",
       "      <th>Total Trade Quantity</th>\n",
       "      <th>Turnover (Lacs)</th>\n",
       "    </tr>\n",
       "  </thead>\n",
       "  <tbody>\n",
       "    <tr>\n",
       "      <th>count</th>\n",
       "      <td>2035.000000</td>\n",
       "      <td>2035.000000</td>\n",
       "      <td>2035.000000</td>\n",
       "      <td>2035.000000</td>\n",
       "      <td>2035.00000</td>\n",
       "      <td>2.035000e+03</td>\n",
       "      <td>2035.000000</td>\n",
       "    </tr>\n",
       "    <tr>\n",
       "      <th>mean</th>\n",
       "      <td>149.713735</td>\n",
       "      <td>151.992826</td>\n",
       "      <td>147.293931</td>\n",
       "      <td>149.474251</td>\n",
       "      <td>149.45027</td>\n",
       "      <td>2.335681e+06</td>\n",
       "      <td>3899.980565</td>\n",
       "    </tr>\n",
       "    <tr>\n",
       "      <th>std</th>\n",
       "      <td>48.664509</td>\n",
       "      <td>49.413109</td>\n",
       "      <td>47.931958</td>\n",
       "      <td>48.732570</td>\n",
       "      <td>48.71204</td>\n",
       "      <td>2.091778e+06</td>\n",
       "      <td>4570.767877</td>\n",
       "    </tr>\n",
       "    <tr>\n",
       "      <th>min</th>\n",
       "      <td>81.100000</td>\n",
       "      <td>82.800000</td>\n",
       "      <td>80.000000</td>\n",
       "      <td>81.000000</td>\n",
       "      <td>80.95000</td>\n",
       "      <td>3.961000e+04</td>\n",
       "      <td>37.040000</td>\n",
       "    </tr>\n",
       "    <tr>\n",
       "      <th>25%</th>\n",
       "      <td>120.025000</td>\n",
       "      <td>122.100000</td>\n",
       "      <td>118.300000</td>\n",
       "      <td>120.075000</td>\n",
       "      <td>120.05000</td>\n",
       "      <td>1.146444e+06</td>\n",
       "      <td>1427.460000</td>\n",
       "    </tr>\n",
       "    <tr>\n",
       "      <th>50%</th>\n",
       "      <td>141.500000</td>\n",
       "      <td>143.400000</td>\n",
       "      <td>139.600000</td>\n",
       "      <td>141.100000</td>\n",
       "      <td>141.25000</td>\n",
       "      <td>1.783456e+06</td>\n",
       "      <td>2512.030000</td>\n",
       "    </tr>\n",
       "    <tr>\n",
       "      <th>75%</th>\n",
       "      <td>157.175000</td>\n",
       "      <td>159.400000</td>\n",
       "      <td>155.150000</td>\n",
       "      <td>156.925000</td>\n",
       "      <td>156.90000</td>\n",
       "      <td>2.813594e+06</td>\n",
       "      <td>4539.015000</td>\n",
       "    </tr>\n",
       "    <tr>\n",
       "      <th>max</th>\n",
       "      <td>327.700000</td>\n",
       "      <td>328.750000</td>\n",
       "      <td>321.650000</td>\n",
       "      <td>325.950000</td>\n",
       "      <td>325.75000</td>\n",
       "      <td>2.919102e+07</td>\n",
       "      <td>55755.080000</td>\n",
       "    </tr>\n",
       "  </tbody>\n",
       "</table>\n",
       "</div>"
      ],
      "text/plain": [
       "              Open         High          Low         Last       Close  \\\n",
       "count  2035.000000  2035.000000  2035.000000  2035.000000  2035.00000   \n",
       "mean    149.713735   151.992826   147.293931   149.474251   149.45027   \n",
       "std      48.664509    49.413109    47.931958    48.732570    48.71204   \n",
       "min      81.100000    82.800000    80.000000    81.000000    80.95000   \n",
       "25%     120.025000   122.100000   118.300000   120.075000   120.05000   \n",
       "50%     141.500000   143.400000   139.600000   141.100000   141.25000   \n",
       "75%     157.175000   159.400000   155.150000   156.925000   156.90000   \n",
       "max     327.700000   328.750000   321.650000   325.950000   325.75000   \n",
       "\n",
       "       Total Trade Quantity  Turnover (Lacs)  \n",
       "count          2.035000e+03      2035.000000  \n",
       "mean           2.335681e+06      3899.980565  \n",
       "std            2.091778e+06      4570.767877  \n",
       "min            3.961000e+04        37.040000  \n",
       "25%            1.146444e+06      1427.460000  \n",
       "50%            1.783456e+06      2512.030000  \n",
       "75%            2.813594e+06      4539.015000  \n",
       "max            2.919102e+07     55755.080000  "
      ]
     },
     "execution_count": 8,
     "metadata": {},
     "output_type": "execute_result"
    }
   ],
   "source": [
    "df.describe()"
   ]
  },
  {
   "cell_type": "code",
   "execution_count": 9,
   "id": "f2b36e68",
   "metadata": {},
   "outputs": [
    {
     "name": "stdout",
     "output_type": "stream",
     "text": [
      "<class 'pandas.core.frame.DataFrame'>\n",
      "RangeIndex: 2035 entries, 0 to 2034\n",
      "Data columns (total 8 columns):\n",
      " #   Column                Non-Null Count  Dtype  \n",
      "---  ------                --------------  -----  \n",
      " 0   Date                  2035 non-null   object \n",
      " 1   Open                  2035 non-null   float64\n",
      " 2   High                  2035 non-null   float64\n",
      " 3   Low                   2035 non-null   float64\n",
      " 4   Last                  2035 non-null   float64\n",
      " 5   Close                 2035 non-null   float64\n",
      " 6   Total Trade Quantity  2035 non-null   int64  \n",
      " 7   Turnover (Lacs)       2035 non-null   float64\n",
      "dtypes: float64(6), int64(1), object(1)\n",
      "memory usage: 127.3+ KB\n"
     ]
    }
   ],
   "source": [
    "df.info()"
   ]
  },
  {
   "cell_type": "code",
   "execution_count": 10,
   "id": "dcc04233",
   "metadata": {},
   "outputs": [
    {
     "data": {
      "text/plain": [
       "Date                    0\n",
       "Open                    0\n",
       "High                    0\n",
       "Low                     0\n",
       "Last                    0\n",
       "Close                   0\n",
       "Total Trade Quantity    0\n",
       "Turnover (Lacs)         0\n",
       "dtype: int64"
      ]
     },
     "execution_count": 10,
     "metadata": {},
     "output_type": "execute_result"
    }
   ],
   "source": [
    "df.isnull().sum()"
   ]
  },
  {
   "cell_type": "markdown",
   "id": "2ed3c295",
   "metadata": {},
   "source": [
    "### Max and Min Values"
   ]
  },
  {
   "cell_type": "code",
   "execution_count": 11,
   "id": "ca08f02d",
   "metadata": {},
   "outputs": [
    {
     "data": {
      "text/plain": [
       "Date                    2018-09-28\n",
       "Open                         327.7\n",
       "High                        328.75\n",
       "Low                         321.65\n",
       "Last                        325.95\n",
       "Close                       325.75\n",
       "Total Trade Quantity      29191015\n",
       "Turnover (Lacs)           55755.08\n",
       "dtype: object"
      ]
     },
     "execution_count": 11,
     "metadata": {},
     "output_type": "execute_result"
    }
   ],
   "source": [
    "df.max()"
   ]
  },
  {
   "cell_type": "code",
   "execution_count": 12,
   "id": "931788f1",
   "metadata": {},
   "outputs": [
    {
     "data": {
      "text/plain": [
       "Date                    2010-07-21\n",
       "Open                          81.1\n",
       "High                          82.8\n",
       "Low                           80.0\n",
       "Last                          81.0\n",
       "Close                        80.95\n",
       "Total Trade Quantity         39610\n",
       "Turnover (Lacs)              37.04\n",
       "dtype: object"
      ]
     },
     "execution_count": 12,
     "metadata": {},
     "output_type": "execute_result"
    }
   ],
   "source": [
    "df.min()"
   ]
  },
  {
   "cell_type": "markdown",
   "id": "2fc8803a",
   "metadata": {},
   "source": [
    "### Checking Null Values"
   ]
  },
  {
   "cell_type": "code",
   "execution_count": 13,
   "id": "168a9d3d",
   "metadata": {},
   "outputs": [
    {
     "data": {
      "text/html": [
       "<div>\n",
       "<style scoped>\n",
       "    .dataframe tbody tr th:only-of-type {\n",
       "        vertical-align: middle;\n",
       "    }\n",
       "\n",
       "    .dataframe tbody tr th {\n",
       "        vertical-align: top;\n",
       "    }\n",
       "\n",
       "    .dataframe thead th {\n",
       "        text-align: right;\n",
       "    }\n",
       "</style>\n",
       "<table border=\"1\" class=\"dataframe\">\n",
       "  <thead>\n",
       "    <tr style=\"text-align: right;\">\n",
       "      <th></th>\n",
       "      <th>Date</th>\n",
       "      <th>Open</th>\n",
       "      <th>High</th>\n",
       "      <th>Low</th>\n",
       "      <th>Last</th>\n",
       "      <th>Close</th>\n",
       "      <th>Total Trade Quantity</th>\n",
       "      <th>Turnover (Lacs)</th>\n",
       "    </tr>\n",
       "  </thead>\n",
       "  <tbody>\n",
       "    <tr>\n",
       "      <th>0</th>\n",
       "      <td>False</td>\n",
       "      <td>False</td>\n",
       "      <td>False</td>\n",
       "      <td>False</td>\n",
       "      <td>False</td>\n",
       "      <td>False</td>\n",
       "      <td>False</td>\n",
       "      <td>False</td>\n",
       "    </tr>\n",
       "    <tr>\n",
       "      <th>1</th>\n",
       "      <td>False</td>\n",
       "      <td>False</td>\n",
       "      <td>False</td>\n",
       "      <td>False</td>\n",
       "      <td>False</td>\n",
       "      <td>False</td>\n",
       "      <td>False</td>\n",
       "      <td>False</td>\n",
       "    </tr>\n",
       "    <tr>\n",
       "      <th>2</th>\n",
       "      <td>False</td>\n",
       "      <td>False</td>\n",
       "      <td>False</td>\n",
       "      <td>False</td>\n",
       "      <td>False</td>\n",
       "      <td>False</td>\n",
       "      <td>False</td>\n",
       "      <td>False</td>\n",
       "    </tr>\n",
       "    <tr>\n",
       "      <th>3</th>\n",
       "      <td>False</td>\n",
       "      <td>False</td>\n",
       "      <td>False</td>\n",
       "      <td>False</td>\n",
       "      <td>False</td>\n",
       "      <td>False</td>\n",
       "      <td>False</td>\n",
       "      <td>False</td>\n",
       "    </tr>\n",
       "    <tr>\n",
       "      <th>4</th>\n",
       "      <td>False</td>\n",
       "      <td>False</td>\n",
       "      <td>False</td>\n",
       "      <td>False</td>\n",
       "      <td>False</td>\n",
       "      <td>False</td>\n",
       "      <td>False</td>\n",
       "      <td>False</td>\n",
       "    </tr>\n",
       "    <tr>\n",
       "      <th>...</th>\n",
       "      <td>...</td>\n",
       "      <td>...</td>\n",
       "      <td>...</td>\n",
       "      <td>...</td>\n",
       "      <td>...</td>\n",
       "      <td>...</td>\n",
       "      <td>...</td>\n",
       "      <td>...</td>\n",
       "    </tr>\n",
       "    <tr>\n",
       "      <th>2030</th>\n",
       "      <td>False</td>\n",
       "      <td>False</td>\n",
       "      <td>False</td>\n",
       "      <td>False</td>\n",
       "      <td>False</td>\n",
       "      <td>False</td>\n",
       "      <td>False</td>\n",
       "      <td>False</td>\n",
       "    </tr>\n",
       "    <tr>\n",
       "      <th>2031</th>\n",
       "      <td>False</td>\n",
       "      <td>False</td>\n",
       "      <td>False</td>\n",
       "      <td>False</td>\n",
       "      <td>False</td>\n",
       "      <td>False</td>\n",
       "      <td>False</td>\n",
       "      <td>False</td>\n",
       "    </tr>\n",
       "    <tr>\n",
       "      <th>2032</th>\n",
       "      <td>False</td>\n",
       "      <td>False</td>\n",
       "      <td>False</td>\n",
       "      <td>False</td>\n",
       "      <td>False</td>\n",
       "      <td>False</td>\n",
       "      <td>False</td>\n",
       "      <td>False</td>\n",
       "    </tr>\n",
       "    <tr>\n",
       "      <th>2033</th>\n",
       "      <td>False</td>\n",
       "      <td>False</td>\n",
       "      <td>False</td>\n",
       "      <td>False</td>\n",
       "      <td>False</td>\n",
       "      <td>False</td>\n",
       "      <td>False</td>\n",
       "      <td>False</td>\n",
       "    </tr>\n",
       "    <tr>\n",
       "      <th>2034</th>\n",
       "      <td>False</td>\n",
       "      <td>False</td>\n",
       "      <td>False</td>\n",
       "      <td>False</td>\n",
       "      <td>False</td>\n",
       "      <td>False</td>\n",
       "      <td>False</td>\n",
       "      <td>False</td>\n",
       "    </tr>\n",
       "  </tbody>\n",
       "</table>\n",
       "<p>2035 rows × 8 columns</p>\n",
       "</div>"
      ],
      "text/plain": [
       "       Date   Open   High    Low   Last  Close  Total Trade Quantity  \\\n",
       "0     False  False  False  False  False  False                 False   \n",
       "1     False  False  False  False  False  False                 False   \n",
       "2     False  False  False  False  False  False                 False   \n",
       "3     False  False  False  False  False  False                 False   \n",
       "4     False  False  False  False  False  False                 False   \n",
       "...     ...    ...    ...    ...    ...    ...                   ...   \n",
       "2030  False  False  False  False  False  False                 False   \n",
       "2031  False  False  False  False  False  False                 False   \n",
       "2032  False  False  False  False  False  False                 False   \n",
       "2033  False  False  False  False  False  False                 False   \n",
       "2034  False  False  False  False  False  False                 False   \n",
       "\n",
       "      Turnover (Lacs)  \n",
       "0               False  \n",
       "1               False  \n",
       "2               False  \n",
       "3               False  \n",
       "4               False  \n",
       "...               ...  \n",
       "2030            False  \n",
       "2031            False  \n",
       "2032            False  \n",
       "2033            False  \n",
       "2034            False  \n",
       "\n",
       "[2035 rows x 8 columns]"
      ]
     },
     "execution_count": 13,
     "metadata": {},
     "output_type": "execute_result"
    }
   ],
   "source": [
    "df.isnull()"
   ]
  },
  {
   "cell_type": "markdown",
   "id": "aa0b7c96",
   "metadata": {},
   "source": [
    "### Visualization"
   ]
  },
  {
   "cell_type": "code",
   "execution_count": 53,
   "id": "bb201117",
   "metadata": {},
   "outputs": [
    {
     "data": {
      "image/png": "[encoded data removed]",
      "text/plain": [
       "<Figure size 432x288 with 1 Axes>"
      ]
     },
     "metadata": {
      "needs_background": "light"
     },
     "output_type": "display_data"
    },
    {
     "data": {
      "image/png": "[encoded data removed]",
      "text/plain": [
       "<Figure size 432x288 with 1 Axes>"
      ]
     },
     "metadata": {
      "needs_background": "light"
     },
     "output_type": "display_data"
    }
   ],
   "source": [
    "plt.subplot (1,2,1)\n",
    "plt.plot (df['Close'],color = 'green')\n",
    "plt.show()\n",
    "\n",
    "plt.subplot(1,2,2)\n",
    "plt.plot (df['Open'],color = 'purple')\n",
    "plt.suptitle (\"Open and Close Line Plots\")\n",
    "plt.show()"
   ]
  },
  {
   "cell_type": "code",
   "execution_count": 54,
   "id": "ce8b336b",
   "metadata": {},
   "outputs": [
    {
     "data": {
      "image/png": "[encoded data removed]",
      "text/plain": [
       "<Figure size 432x288 with 1 Axes>"
      ]
     },
     "metadata": {
      "needs_background": "light"
     },
     "output_type": "display_data"
    }
   ],
   "source": [
    "plt.hist (df['High'],color = 'brown')\n",
    "plt.show()"
   ]
  },
  {
   "cell_type": "markdown",
   "id": "ea42a0ea",
   "metadata": {},
   "source": [
    "### To display no. of samples on each class"
   ]
  },
  {
   "cell_type": "code",
   "execution_count": 16,
   "id": "9ab306d2",
   "metadata": {},
   "outputs": [
    {
     "data": {
      "text/plain": [
       "0       230.20\n",
       "1       231.10\n",
       "2       232.50\n",
       "3       232.00\n",
       "4       230.75\n",
       "         ...  \n",
       "2030    112.00\n",
       "2031    117.10\n",
       "2032    120.25\n",
       "2033    120.25\n",
       "2034    121.05\n",
       "Name: Low, Length: 2035, dtype: float64"
      ]
     },
     "execution_count": 16,
     "metadata": {},
     "output_type": "execute_result"
    }
   ],
   "source": [
    "df_low = df.reset_index()['Low']\n",
    "df_low"
   ]
  },
  {
   "cell_type": "code",
   "execution_count": 17,
   "id": "3d9c4941",
   "metadata": {},
   "outputs": [
    {
     "data": {
      "image/png": "[encoded data removed]",
      "text/plain": [
       "<Figure size 504x504 with 1 Axes>"
      ]
     },
     "metadata": {
      "needs_background": "light"
     },
     "output_type": "display_data"
    }
   ],
   "source": [
    "plt.figure (figsize = (7,7))\n",
    "plt.boxplot (df_low)\n",
    "plt.title (\"Box Plot of Low\")\n",
    "plt.show()"
   ]
  },
  {
   "cell_type": "markdown",
   "id": "5b1da2dd",
   "metadata": {},
   "source": [
    "### Here we will use min-max scalar to transform the values from 0 to 1.We should reshape so that we can use fit transform."
   ]
  },
  {
   "cell_type": "code",
   "execution_count": 18,
   "id": "beeafb21",
   "metadata": {},
   "outputs": [],
   "source": [
    "from sklearn.preprocessing import MinMaxScaler\n",
    "scaler = MinMaxScaler (feature_range = (0,1))\n",
    "df_low = scaler.fit_transform (np.array(df_low).reshape(-1,1))"
   ]
  },
  {
   "cell_type": "code",
   "execution_count": 19,
   "id": "bb163917",
   "metadata": {},
   "outputs": [
    {
     "name": "stdout",
     "output_type": "stream",
     "text": [
      "[[0.62156011]\n",
      " [0.6252845 ]\n",
      " [0.63107801]\n",
      " ...\n",
      " [0.16656321]\n",
      " [0.16656321]\n",
      " [0.16987378]]\n"
     ]
    }
   ],
   "source": [
    "print (df_low)"
   ]
  },
  {
   "cell_type": "markdown",
   "id": "d124445c",
   "metadata": {},
   "source": [
    "### Train and Test Split"
   ]
  },
  {
   "cell_type": "code",
   "execution_count": 20,
   "id": "9ebf2ee7",
   "metadata": {},
   "outputs": [],
   "source": [
    "training_size=int(len(df_low)*0.65)\n",
    "test_size=len(df_low)-training_size\n",
    "train_data,test_data=df_low[0:training_size,:],df_low[training_size:len(df_low),:1]"
   ]
  },
  {
   "cell_type": "code",
   "execution_count": 21,
   "id": "c06f3713",
   "metadata": {},
   "outputs": [
    {
     "data": {
      "text/plain": [
       "(1322, 713)"
      ]
     },
     "execution_count": 21,
     "metadata": {},
     "output_type": "execute_result"
    }
   ],
   "source": [
    "training_size,test_size"
   ]
  },
  {
   "cell_type": "code",
   "execution_count": 22,
   "id": "4e9a0f8f",
   "metadata": {},
   "outputs": [
    {
     "data": {
      "text/plain": [
       "array([[0.62156011],\n",
       "       [0.6252845 ],\n",
       "       [0.63107801],\n",
       "       ...,\n",
       "       [0.25181047],\n",
       "       [0.26174219],\n",
       "       [0.25305193]])"
      ]
     },
     "execution_count": 22,
     "metadata": {},
     "output_type": "execute_result"
    }
   ],
   "source": [
    "train_data"
   ]
  },
  {
   "cell_type": "markdown",
   "id": "96210e38",
   "metadata": {},
   "source": [
    "### Data Processing"
   ]
  },
  {
   "cell_type": "markdown",
   "id": "fcbf9f2b",
   "metadata": {},
   "source": [
    "### convert an array of values into a dataset matrix"
   ]
  },
  {
   "cell_type": "code",
   "execution_count": 26,
   "id": "b060bffb",
   "metadata": {},
   "outputs": [],
   "source": [
    "import numpy\n",
    "def create_dataset(dataset, time_step=1):\n",
    "    dataX, dataY = [], []\n",
    "    for i in range(len(dataset)-time_step-1):\n",
    "        a = dataset[i:(i+time_step), 0]\n",
    "        dataX.append(a)\n",
    "        dataY.append(dataset[i + time_step, 0])\n",
    "    return numpy.array(dataX), numpy.array(dataY)"
   ]
  },
  {
   "cell_type": "code",
   "execution_count": 27,
   "id": "9a5ac632",
   "metadata": {},
   "outputs": [],
   "source": [
    "# reshape into X=t,t+1,t+2,t+3 and Y=t+4\n",
    "time_step = 100\n",
    "X_train, y_train = create_dataset(train_data, time_step)\n",
    "X_test, ytest = create_dataset(test_data, time_step)"
   ]
  },
  {
   "cell_type": "markdown",
   "id": "0cf0e50d",
   "metadata": {},
   "source": [
    "### LSTM"
   ]
  },
  {
   "cell_type": "code",
   "execution_count": 29,
   "id": "857e42cb",
   "metadata": {},
   "outputs": [],
   "source": [
    "# reshape input to be [samples, time steps, features] which is required for LSTM\n",
    "X_train =X_train.reshape(X_train.shape[0],X_train.shape[1] , 1)\n",
    "X_test = X_test.reshape(X_test.shape[0],X_test.shape[1] , 1)"
   ]
  },
  {
   "cell_type": "markdown",
   "id": "187f7e99",
   "metadata": {},
   "source": [
    "### Create the Stacked LSTM model"
   ]
  },
  {
   "cell_type": "code",
   "execution_count": 30,
   "id": "fc446fa1",
   "metadata": {},
   "outputs": [],
   "source": [
    "from tensorflow.keras.layers import Dense\n",
    "from tensorflow.keras.layers import LSTM\n",
    "from tensorflow.keras.models import Sequential"
   ]
  },
  {
   "cell_type": "code",
   "execution_count": 31,
   "id": "2cc5ea0f",
   "metadata": {},
   "outputs": [],
   "source": [
    "model=Sequential()\n",
    "model.add(LSTM(50,return_sequences=True,input_shape=(100,1)))\n",
    "model.add(LSTM(50,return_sequences=True))\n",
    "model.add(LSTM(50))\n",
    "model.add(Dense(1))\n",
    "model.compile(loss='mean_squared_error',optimizer='adam')"
   ]
  },
  {
   "cell_type": "markdown",
   "id": "905953b0",
   "metadata": {},
   "source": [
    "### Summary"
   ]
  },
  {
   "cell_type": "code",
   "execution_count": 32,
   "id": "3f07f39d",
   "metadata": {},
   "outputs": [
    {
     "name": "stdout",
     "output_type": "stream",
     "text": [
      "Model: \"sequential\"\n",
      "_________________________________________________________________\n",
      " Layer (type)                Output Shape              Param #   \n",
      "=================================================================\n",
      " lstm (LSTM)                 (None, 100, 50)           10400     \n",
      "                                                                 \n",
      " lstm_1 (LSTM)               (None, 100, 50)           20200     \n",
      "                                                                 \n",
      " lstm_2 (LSTM)               (None, 50)                20200     \n",
      "                                                                 \n",
      " dense (Dense)               (None, 1)                 51        \n",
      "                                                                 \n",
      "=================================================================\n",
      "Total params: 50,851\n",
      "Trainable params: 50,851\n",
      "Non-trainable params: 0\n",
      "_________________________________________________________________\n"
     ]
    }
   ],
   "source": [
    "model.summary()"
   ]
  },
  {
   "cell_type": "code",
   "execution_count": 33,
   "id": "cb50c752",
   "metadata": {},
   "outputs": [
    {
     "name": "stdout",
     "output_type": "stream",
     "text": [
      "Epoch 1/100\n",
      "20/20 [==============================] - 16s 338ms/step - loss: 0.0212 - val_loss: 0.0042\n",
      "Epoch 2/100\n",
      "20/20 [==============================] - 5s 241ms/step - loss: 0.0026 - val_loss: 0.0013\n",
      "Epoch 3/100\n",
      "20/20 [==============================] - 5s 255ms/step - loss: 0.0021 - val_loss: 0.0010\n",
      "Epoch 4/100\n",
      "20/20 [==============================] - 5s 239ms/step - loss: 0.0017 - val_loss: 0.0015\n",
      "Epoch 5/100\n",
      "20/20 [==============================] - 5s 235ms/step - loss: 0.0020 - val_loss: 0.0011\n",
      "Epoch 6/100\n",
      "20/20 [==============================] - 5s 244ms/step - loss: 0.0015 - val_loss: 9.3952e-04\n",
      "Epoch 7/100\n",
      "20/20 [==============================] - 5s 230ms/step - loss: 0.0013 - val_loss: 9.1298e-04\n",
      "Epoch 8/100\n",
      "20/20 [==============================] - 4s 224ms/step - loss: 0.0014 - val_loss: 0.0015\n",
      "Epoch 9/100\n",
      "20/20 [==============================] - 5s 239ms/step - loss: 0.0012 - val_loss: 0.0011\n",
      "Epoch 10/100\n",
      "20/20 [==============================] - 5s 239ms/step - loss: 0.0012 - val_loss: 7.8063e-04\n",
      "Epoch 11/100\n",
      "20/20 [==============================] - 5s 231ms/step - loss: 0.0013 - val_loss: 9.9146e-04\n",
      "Epoch 12/100\n",
      "20/20 [==============================] - 5s 231ms/step - loss: 0.0011 - val_loss: 8.0430e-04\n",
      "Epoch 13/100\n",
      "20/20 [==============================] - 5s 237ms/step - loss: 0.0011 - val_loss: 7.7117e-04\n",
      "Epoch 14/100\n",
      "20/20 [==============================] - 4s 218ms/step - loss: 0.0010 - val_loss: 8.3619e-04\n",
      "Epoch 15/100\n",
      "20/20 [==============================] - 4s 221ms/step - loss: 0.0010 - val_loss: 9.1786e-04\n",
      "Epoch 16/100\n",
      "20/20 [==============================] - 5s 228ms/step - loss: 9.8430e-04 - val_loss: 5.8691e-04\n",
      "Epoch 17/100\n",
      "20/20 [==============================] - 5s 227ms/step - loss: 9.3431e-04 - val_loss: 9.6148e-04\n",
      "Epoch 18/100\n",
      "20/20 [==============================] - 4s 220ms/step - loss: 9.0852e-04 - val_loss: 7.0503e-04\n",
      "Epoch 19/100\n",
      "20/20 [==============================] - 4s 222ms/step - loss: 9.0390e-04 - val_loss: 8.0142e-04\n",
      "Epoch 20/100\n",
      "20/20 [==============================] - 5s 234ms/step - loss: 8.5391e-04 - val_loss: 6.2373e-04\n",
      "Epoch 21/100\n",
      "20/20 [==============================] - 4s 222ms/step - loss: 8.8973e-04 - val_loss: 0.0012\n",
      "Epoch 22/100\n",
      "20/20 [==============================] - 4s 218ms/step - loss: 0.0012 - val_loss: 6.8606e-04\n",
      "Epoch 23/100\n",
      "20/20 [==============================] - 4s 225ms/step - loss: 0.0011 - val_loss: 5.8532e-04\n",
      "Epoch 24/100\n",
      "20/20 [==============================] - 5s 236ms/step - loss: 9.6638e-04 - val_loss: 7.4650e-04\n",
      "Epoch 25/100\n",
      "20/20 [==============================] - 4s 222ms/step - loss: 8.5427e-04 - val_loss: 5.1683e-04\n",
      "Epoch 26/100\n",
      "20/20 [==============================] - 4s 221ms/step - loss: 7.9041e-04 - val_loss: 7.3912e-04\n",
      "Epoch 27/100\n",
      "20/20 [==============================] - 5s 232ms/step - loss: 7.5527e-04 - val_loss: 6.1538e-04\n",
      "Epoch 28/100\n",
      "20/20 [==============================] - 4s 225ms/step - loss: 7.4470e-04 - val_loss: 6.1457e-04\n",
      "Epoch 29/100\n",
      "20/20 [==============================] - 4s 218ms/step - loss: 7.1113e-04 - val_loss: 7.6206e-04\n",
      "Epoch 30/100\n",
      "20/20 [==============================] - 4s 218ms/step - loss: 6.9435e-04 - val_loss: 5.9339e-04\n",
      "Epoch 31/100\n",
      "20/20 [==============================] - 5s 236ms/step - loss: 8.1630e-04 - val_loss: 6.0367e-04\n",
      "Epoch 32/100\n",
      "20/20 [==============================] - 4s 225ms/step - loss: 7.0809e-04 - val_loss: 8.0395e-04\n",
      "Epoch 33/100\n",
      "20/20 [==============================] - 4s 222ms/step - loss: 6.7750e-04 - val_loss: 8.5239e-04\n",
      "Epoch 34/100\n",
      "20/20 [==============================] - 5s 230ms/step - loss: 7.0165e-04 - val_loss: 7.0714e-04\n",
      "Epoch 35/100\n",
      "20/20 [==============================] - 4s 225ms/step - loss: 7.8198e-04 - val_loss: 7.4208e-04\n",
      "Epoch 36/100\n",
      "20/20 [==============================] - 4s 220ms/step - loss: 9.2324e-04 - val_loss: 4.6555e-04\n",
      "Epoch 37/100\n",
      "20/20 [==============================] - 4s 216ms/step - loss: 7.8444e-04 - val_loss: 5.7484e-04\n",
      "Epoch 38/100\n",
      "20/20 [==============================] - 5s 232ms/step - loss: 6.3858e-04 - val_loss: 5.2980e-04\n",
      "Epoch 39/100\n",
      "20/20 [==============================] - 4s 222ms/step - loss: 6.8787e-04 - val_loss: 4.6789e-04\n",
      "Epoch 40/100\n",
      "20/20 [==============================] - 4s 220ms/step - loss: 6.9457e-04 - val_loss: 5.8439e-04\n",
      "Epoch 41/100\n",
      "20/20 [==============================] - 4s 224ms/step - loss: 6.1967e-04 - val_loss: 5.9024e-04\n",
      "Epoch 42/100\n",
      "20/20 [==============================] - 4s 226ms/step - loss: 6.6953e-04 - val_loss: 5.8234e-04\n",
      "Epoch 43/100\n",
      "20/20 [==============================] - 4s 224ms/step - loss: 6.3120e-04 - val_loss: 5.8801e-04\n",
      "Epoch 44/100\n",
      "20/20 [==============================] - 4s 224ms/step - loss: 5.7361e-04 - val_loss: 4.6713e-04\n",
      "Epoch 45/100\n",
      "20/20 [==============================] - 5s 231ms/step - loss: 5.6100e-04 - val_loss: 5.6054e-04\n",
      "Epoch 46/100\n",
      "20/20 [==============================] - 4s 222ms/step - loss: 5.5112e-04 - val_loss: 6.0647e-04\n",
      "Epoch 47/100\n",
      "20/20 [==============================] - 4s 217ms/step - loss: 6.0831e-04 - val_loss: 7.6781e-04\n",
      "Epoch 48/100\n",
      "20/20 [==============================] - 5s 230ms/step - loss: 6.3404e-04 - val_loss: 7.5827e-04\n",
      "Epoch 49/100\n",
      "20/20 [==============================] - 5s 230ms/step - loss: 5.5499e-04 - val_loss: 4.6533e-04\n",
      "Epoch 50/100\n",
      "20/20 [==============================] - 4s 217ms/step - loss: 5.4136e-04 - val_loss: 4.6737e-04\n",
      "Epoch 51/100\n",
      "20/20 [==============================] - 4s 223ms/step - loss: 5.0471e-04 - val_loss: 5.0996e-04\n",
      "Epoch 52/100\n",
      "20/20 [==============================] - 5s 229ms/step - loss: 5.3325e-04 - val_loss: 6.4609e-04\n",
      "Epoch 53/100\n",
      "20/20 [==============================] - 4s 223ms/step - loss: 5.3491e-04 - val_loss: 4.2435e-04\n",
      "Epoch 54/100\n",
      "20/20 [==============================] - 4s 226ms/step - loss: 5.3395e-04 - val_loss: 6.1199e-04\n",
      "Epoch 55/100\n",
      "20/20 [==============================] - 5s 229ms/step - loss: 5.5093e-04 - val_loss: 3.6180e-04\n",
      "Epoch 56/100\n",
      "20/20 [==============================] - 5s 231ms/step - loss: 4.9555e-04 - val_loss: 4.5305e-04\n",
      "Epoch 57/100\n",
      "20/20 [==============================] - 4s 216ms/step - loss: 4.5944e-04 - val_loss: 4.0668e-04\n",
      "Epoch 58/100\n",
      "20/20 [==============================] - 4s 215ms/step - loss: 5.5721e-04 - val_loss: 3.3994e-04\n",
      "Epoch 59/100\n",
      "20/20 [==============================] - 4s 223ms/step - loss: 6.3951e-04 - val_loss: 9.6392e-04\n",
      "Epoch 60/100\n",
      "20/20 [==============================] - 4s 225ms/step - loss: 7.5487e-04 - val_loss: 5.2137e-04\n",
      "Epoch 61/100\n",
      "20/20 [==============================] - 4s 215ms/step - loss: 4.6608e-04 - val_loss: 4.3789e-04\n",
      "Epoch 62/100\n",
      "20/20 [==============================] - 4s 216ms/step - loss: 4.2909e-04 - val_loss: 3.5881e-04\n",
      "Epoch 63/100\n",
      "20/20 [==============================] - 5s 230ms/step - loss: 4.4727e-04 - val_loss: 3.4926e-04\n",
      "Epoch 64/100\n",
      "20/20 [==============================] - 5s 229ms/step - loss: 4.2101e-04 - val_loss: 3.4774e-04\n",
      "Epoch 65/100\n",
      "20/20 [==============================] - 4s 221ms/step - loss: 3.9295e-04 - val_loss: 3.7211e-04\n",
      "Epoch 66/100\n",
      "20/20 [==============================] - 4s 220ms/step - loss: 4.9454e-04 - val_loss: 2.9226e-04\n",
      "Epoch 67/100\n",
      "20/20 [==============================] - 5s 230ms/step - loss: 4.4822e-04 - val_loss: 4.1371e-04\n",
      "Epoch 68/100\n",
      "20/20 [==============================] - 4s 217ms/step - loss: 3.7528e-04 - val_loss: 3.5301e-04\n",
      "Epoch 69/100\n",
      "20/20 [==============================] - 4s 216ms/step - loss: 3.6781e-04 - val_loss: 3.9301e-04\n",
      "Epoch 70/100\n",
      "20/20 [==============================] - 5s 228ms/step - loss: 3.5506e-04 - val_loss: 3.1091e-04\n",
      "Epoch 71/100\n",
      "20/20 [==============================] - 4s 224ms/step - loss: 4.4447e-04 - val_loss: 2.7664e-04\n",
      "Epoch 72/100\n",
      "20/20 [==============================] - 4s 219ms/step - loss: 4.4278e-04 - val_loss: 3.6701e-04\n",
      "Epoch 73/100\n",
      "20/20 [==============================] - 4s 214ms/step - loss: 3.3298e-04 - val_loss: 2.8461e-04\n",
      "Epoch 74/100\n",
      "20/20 [==============================] - 5s 233ms/step - loss: 3.1997e-04 - val_loss: 2.6825e-04\n",
      "Epoch 75/100\n",
      "20/20 [==============================] - 4s 218ms/step - loss: 3.1728e-04 - val_loss: 4.0261e-04\n",
      "Epoch 76/100\n"
     ]
    },
    {
     "name": "stdout",
     "output_type": "stream",
     "text": [
      "20/20 [==============================] - 4s 216ms/step - loss: 3.1185e-04 - val_loss: 2.4512e-04\n",
      "Epoch 77/100\n",
      "20/20 [==============================] - 4s 225ms/step - loss: 3.7314e-04 - val_loss: 5.0628e-04\n",
      "Epoch 78/100\n",
      "20/20 [==============================] - 5s 232ms/step - loss: 3.6050e-04 - val_loss: 2.5350e-04\n",
      "Epoch 79/100\n",
      "20/20 [==============================] - 4s 219ms/step - loss: 3.7072e-04 - val_loss: 3.7741e-04\n",
      "Epoch 80/100\n",
      "20/20 [==============================] - 4s 219ms/step - loss: 3.1276e-04 - val_loss: 2.8643e-04\n",
      "Epoch 81/100\n",
      "20/20 [==============================] - 5s 228ms/step - loss: 2.8855e-04 - val_loss: 2.5476e-04\n",
      "Epoch 82/100\n",
      "20/20 [==============================] - 4s 222ms/step - loss: 2.7645e-04 - val_loss: 2.4238e-04\n",
      "Epoch 83/100\n",
      "20/20 [==============================] - 4s 220ms/step - loss: 3.0601e-04 - val_loss: 3.7267e-04\n",
      "Epoch 84/100\n",
      "20/20 [==============================] - 4s 221ms/step - loss: 3.2694e-04 - val_loss: 2.1829e-04\n",
      "Epoch 85/100\n",
      "20/20 [==============================] - 5s 233ms/step - loss: 3.5628e-04 - val_loss: 2.3635e-04\n",
      "Epoch 86/100\n",
      "20/20 [==============================] - 4s 216ms/step - loss: 3.3415e-04 - val_loss: 2.2227e-04\n",
      "Epoch 87/100\n",
      "20/20 [==============================] - 4s 217ms/step - loss: 2.7575e-04 - val_loss: 2.3748e-04\n",
      "Epoch 88/100\n",
      "20/20 [==============================] - 5s 228ms/step - loss: 2.8299e-04 - val_loss: 2.4353e-04\n",
      "Epoch 89/100\n",
      "20/20 [==============================] - 5s 226ms/step - loss: 2.8804e-04 - val_loss: 2.0898e-04\n",
      "Epoch 90/100\n",
      "20/20 [==============================] - 4s 216ms/step - loss: 2.5608e-04 - val_loss: 3.8116e-04\n",
      "Epoch 91/100\n",
      "20/20 [==============================] - 4s 218ms/step - loss: 3.1143e-04 - val_loss: 2.5621e-04\n",
      "Epoch 92/100\n",
      "20/20 [==============================] - 5s 234ms/step - loss: 3.0190e-04 - val_loss: 3.2332e-04\n",
      "Epoch 93/100\n",
      "20/20 [==============================] - 4s 223ms/step - loss: 3.3151e-04 - val_loss: 2.0325e-04\n",
      "Epoch 94/100\n",
      "20/20 [==============================] - 4s 217ms/step - loss: 2.8063e-04 - val_loss: 2.8733e-04\n",
      "Epoch 95/100\n",
      "20/20 [==============================] - 5s 229ms/step - loss: 2.9319e-04 - val_loss: 2.1195e-04\n",
      "Epoch 96/100\n",
      "20/20 [==============================] - 5s 238ms/step - loss: 2.4100e-04 - val_loss: 3.0534e-04\n",
      "Epoch 97/100\n",
      "20/20 [==============================] - 4s 220ms/step - loss: 2.3754e-04 - val_loss: 2.1461e-04\n",
      "Epoch 98/100\n",
      "20/20 [==============================] - 4s 221ms/step - loss: 2.2930e-04 - val_loss: 2.5602e-04\n",
      "Epoch 99/100\n",
      "20/20 [==============================] - 5s 237ms/step - loss: 2.3844e-04 - val_loss: 4.2337e-04\n",
      "Epoch 100/100\n",
      "20/20 [==============================] - 4s 222ms/step - loss: 3.8458e-04 - val_loss: 2.1094e-04\n"
     ]
    },
    {
     "data": {
      "text/plain": [
       "<keras.callbacks.History at 0x2211b4b91c0>"
      ]
     },
     "execution_count": 33,
     "metadata": {},
     "output_type": "execute_result"
    }
   ],
   "source": [
    "model.fit(X_train,y_train,validation_data=(X_test,ytest),epochs=100,batch_size=64,verbose=1)"
   ]
  },
  {
   "cell_type": "code",
   "execution_count": 34,
   "id": "a8cd3bf7",
   "metadata": {},
   "outputs": [],
   "source": [
    "import tensorflow as tf"
   ]
  },
  {
   "cell_type": "code",
   "execution_count": 35,
   "id": "a7659008",
   "metadata": {},
   "outputs": [
    {
     "data": {
      "text/plain": [
       "'2.9.1'"
      ]
     },
     "execution_count": 35,
     "metadata": {},
     "output_type": "execute_result"
    }
   ],
   "source": [
    "tf.__version__"
   ]
  },
  {
   "cell_type": "code",
   "execution_count": 36,
   "id": "732841f9",
   "metadata": {},
   "outputs": [
    {
     "name": "stdout",
     "output_type": "stream",
     "text": [
      "39/39 [==============================] - 4s 47ms/step\n",
      "20/20 [==============================] - 1s 45ms/step\n"
     ]
    }
   ],
   "source": [
    "train_predict=model.predict(X_train)\n",
    "test_predict=model.predict(X_test)\n",
    "train_predict=scaler.inverse_transform(train_predict)\n",
    "test_predict=scaler.inverse_transform(test_predict)"
   ]
  },
  {
   "cell_type": "code",
   "execution_count": 37,
   "id": "3b1a5630",
   "metadata": {},
   "outputs": [
    {
     "data": {
      "text/plain": [
       "163.40141915930243"
      ]
     },
     "execution_count": 37,
     "metadata": {},
     "output_type": "execute_result"
    }
   ],
   "source": [
    "import math\n",
    "from sklearn.metrics import mean_squared_error\n",
    "math.sqrt(mean_squared_error(y_train,train_predict))"
   ]
  },
  {
   "cell_type": "code",
   "execution_count": 38,
   "id": "308fba6f",
   "metadata": {},
   "outputs": [
    {
     "data": {
      "text/plain": [
       "114.11231198586474"
      ]
     },
     "execution_count": 38,
     "metadata": {},
     "output_type": "execute_result"
    }
   ],
   "source": [
    "math.sqrt(mean_squared_error(ytest,test_predict))"
   ]
  },
  {
   "cell_type": "markdown",
   "id": "2606eaa1",
   "metadata": {},
   "source": [
    "### Plotting"
   ]
  },
  {
   "cell_type": "code",
   "execution_count": 39,
   "id": "8a879dde",
   "metadata": {},
   "outputs": [
    {
     "data": {
      "image/png": "[encoded data removed]",
      "text/plain": [
       "<Figure size 432x288 with 1 Axes>"
      ]
     },
     "metadata": {
      "needs_background": "light"
     },
     "output_type": "display_data"
    }
   ],
   "source": [
    "# shift train predictions for plotting\n",
    "look_back=100\n",
    "trainPredictPlot = numpy.empty_like(df_low)\n",
    "trainPredictPlot[:, :] = np.nan\n",
    "trainPredictPlot[look_back:len(train_predict)+look_back, :] = train_predict\n",
    "# shift test predictions for plotting\n",
    "testPredictPlot = numpy.empty_like(df_low)\n",
    "testPredictPlot[:, :] = numpy.nan\n",
    "testPredictPlot[len(train_predict)+(look_back*2)+1:len(df_low)-1, :] = test_predict\n",
    "# plot baseline and predictions\n",
    "plt.plot(scaler.inverse_transform(df_low))\n",
    "plt.plot(trainPredictPlot)\n",
    "plt.plot(testPredictPlot)\n",
    "plt.show()"
   ]
  },
  {
   "cell_type": "markdown",
   "id": "712621f2",
   "metadata": {},
   "source": [
    "### Predicting Stock Price for next 30 days"
   ]
  },
  {
   "cell_type": "code",
   "execution_count": 40,
   "id": "2b261ef3",
   "metadata": {},
   "outputs": [
    {
     "data": {
      "text/plain": [
       "713"
      ]
     },
     "execution_count": 40,
     "metadata": {},
     "output_type": "execute_result"
    }
   ],
   "source": [
    "len(test_data)"
   ]
  },
  {
   "cell_type": "code",
   "execution_count": 41,
   "id": "acdbbab6",
   "metadata": {},
   "outputs": [
    {
     "data": {
      "text/plain": [
       "(1, 100)"
      ]
     },
     "execution_count": 41,
     "metadata": {},
     "output_type": "execute_result"
    }
   ],
   "source": [
    "x_input=test_data[613:].reshape(1,-1)\n",
    "x_input.shape"
   ]
  },
  {
   "cell_type": "code",
   "execution_count": 42,
   "id": "60e0779d",
   "metadata": {},
   "outputs": [],
   "source": [
    "temp_input=list(x_input)\n",
    "temp_input=temp_input[0].tolist()\n"
   ]
  },
  {
   "cell_type": "code",
   "execution_count": 43,
   "id": "3a75939f",
   "metadata": {},
   "outputs": [
    {
     "data": {
      "text/plain": [
       "[0.1249741361473205,\n",
       " 0.13945789364783778,\n",
       " 0.13904407200496582,\n",
       " 0.1373887854334782,\n",
       " 0.13490585557624662,\n",
       " 0.14214773432650524,\n",
       " 0.13656114214773435,\n",
       " 0.12849162011173182,\n",
       " 0.12456031450444854,\n",
       " 0.09724808607490171,\n",
       " 0.11276639768259877,\n",
       " 0.14959652389819988,\n",
       " 0.14111318021932545,\n",
       " 0.1531140078626112,\n",
       " 0.14525139664804465,\n",
       " 0.1460790399337885,\n",
       " 0.1655286571487689,\n",
       " 0.17835712807779847,\n",
       " 0.18290916614938968,\n",
       " 0.19573763707841918,\n",
       " 0.19449617214980341,\n",
       " 0.1827022553279537,\n",
       " 0.18415063107800544,\n",
       " 0.18704738257810882,\n",
       " 0.17835712807779847,\n",
       " 0.18208152286364576,\n",
       " 0.1843575418994413,\n",
       " 0.1779433064349265,\n",
       " 0.16759776536312848,\n",
       " 0.19573763707841918,\n",
       " 0.18849575832816057,\n",
       " 0.19325470722118765,\n",
       " 0.19966894268570246,\n",
       " 0.19884129939995865,\n",
       " 0.20153114007862605,\n",
       " 0.20070349679288224,\n",
       " 0.1992551210428306,\n",
       " 0.1918063314711359,\n",
       " 0.2002896751500104,\n",
       " 0.2112559486861163,\n",
       " 0.21249741361473207,\n",
       " 0.20691082143596107,\n",
       " 0.2205669356507346,\n",
       " 0.21146285950755228,\n",
       " 0.20546244568590943,\n",
       " 0.19490999379267537,\n",
       " 0.17877094972067042,\n",
       " 0.17877094972067042,\n",
       " 0.17090833850610387,\n",
       " 0.1620111731843576,\n",
       " 0.17049451686323192,\n",
       " 0.17401200082764323,\n",
       " 0.17856403889923445,\n",
       " 0.17732257397061868,\n",
       " 0.165114835505897,\n",
       " 0.16470101386302505,\n",
       " 0.1698737843989241,\n",
       " 0.17380509000620736,\n",
       " 0.17214980343471964,\n",
       " 0.17173598179184768,\n",
       " 0.1779433064349265,\n",
       " 0.1800124146492862,\n",
       " 0.18746120422098078,\n",
       " 0.19325470722118765,\n",
       " 0.18663356093523686,\n",
       " 0.1742189116490792,\n",
       " 0.1771156631491827,\n",
       " 0.17318435754189943,\n",
       " 0.17380509000620736,\n",
       " 0.16635630043451277,\n",
       " 0.1493896130767639,\n",
       " 0.1518725429339955,\n",
       " 0.1535278295054831,\n",
       " 0.15145872129112353,\n",
       " 0.14649286157666047,\n",
       " 0.14918270225532793,\n",
       " 0.1324229257190151,\n",
       " 0.12849162011173182,\n",
       " 0.11793916821849781,\n",
       " 0.11628388164701009,\n",
       " 0.12290502793296093,\n",
       " 0.12725015518311605,\n",
       " 0.13490585557624662,\n",
       " 0.13345747982619494,\n",
       " 0.1324229257190151,\n",
       " 0.13056072832609145,\n",
       " 0.1324229257190151,\n",
       " 0.1313883716118353,\n",
       " 0.13987171529070969,\n",
       " 0.1493896130767639,\n",
       " 0.15683840264845855,\n",
       " 0.15145872129112353,\n",
       " 0.14318228843368508,\n",
       " 0.13449203393337472,\n",
       " 0.15394165114835506,\n",
       " 0.1324229257190151,\n",
       " 0.1535278295054831,\n",
       " 0.1665632112559487,\n",
       " 0.1665632112559487,\n",
       " 0.1698737843989241]"
      ]
     },
     "execution_count": 43,
     "metadata": {},
     "output_type": "execute_result"
    }
   ],
   "source": [
    "temp_input"
   ]
  },
  {
   "cell_type": "markdown",
   "id": "ea7004e3",
   "metadata": {},
   "source": [
    "### Prediction for next 10 days"
   ]
  },
  {
   "cell_type": "code",
   "execution_count": 44,
   "id": "3e62f718",
   "metadata": {},
   "outputs": [
    {
     "name": "stdout",
     "output_type": "stream",
     "text": [
      "[0.16870871]\n",
      "101\n",
      "1 day input [0.13945789 0.13904407 0.13738879 0.13490586 0.14214773 0.13656114\n",
      " 0.12849162 0.12456031 0.09724809 0.1127664  0.14959652 0.14111318\n",
      " 0.15311401 0.1452514  0.14607904 0.16552866 0.17835713 0.18290917\n",
      " 0.19573764 0.19449617 0.18270226 0.18415063 0.18704738 0.17835713\n",
      " 0.18208152 0.18435754 0.17794331 0.16759777 0.19573764 0.18849576\n",
      " 0.19325471 0.19966894 0.1988413  0.20153114 0.2007035  0.19925512\n",
      " 0.19180633 0.20028968 0.21125595 0.21249741 0.20691082 0.22056694\n",
      " 0.21146286 0.20546245 0.19490999 0.17877095 0.17877095 0.17090834\n",
      " 0.16201117 0.17049452 0.174012   0.17856404 0.17732257 0.16511484\n",
      " 0.16470101 0.16987378 0.17380509 0.1721498  0.17173598 0.17794331\n",
      " 0.18001241 0.1874612  0.19325471 0.18663356 0.17421891 0.17711566\n",
      " 0.17318436 0.17380509 0.1663563  0.14938961 0.15187254 0.15352783\n",
      " 0.15145872 0.14649286 0.1491827  0.13242293 0.12849162 0.11793917\n",
      " 0.11628388 0.12290503 0.12725016 0.13490586 0.13345748 0.13242293\n",
      " 0.13056073 0.13242293 0.13138837 0.13987172 0.14938961 0.1568384\n",
      " 0.15145872 0.14318229 0.13449203 0.15394165 0.13242293 0.15352783\n",
      " 0.16656321 0.16656321 0.16987378 0.16870871]\n",
      "1 day output [[0.17149262]]\n",
      "2 day input [0.13904407 0.13738879 0.13490586 0.14214773 0.13656114 0.12849162\n",
      " 0.12456031 0.09724809 0.1127664  0.14959652 0.14111318 0.15311401\n",
      " 0.1452514  0.14607904 0.16552866 0.17835713 0.18290917 0.19573764\n",
      " 0.19449617 0.18270226 0.18415063 0.18704738 0.17835713 0.18208152\n",
      " 0.18435754 0.17794331 0.16759777 0.19573764 0.18849576 0.19325471\n",
      " 0.19966894 0.1988413  0.20153114 0.2007035  0.19925512 0.19180633\n",
      " 0.20028968 0.21125595 0.21249741 0.20691082 0.22056694 0.21146286\n",
      " 0.20546245 0.19490999 0.17877095 0.17877095 0.17090834 0.16201117\n",
      " 0.17049452 0.174012   0.17856404 0.17732257 0.16511484 0.16470101\n",
      " 0.16987378 0.17380509 0.1721498  0.17173598 0.17794331 0.18001241\n",
      " 0.1874612  0.19325471 0.18663356 0.17421891 0.17711566 0.17318436\n",
      " 0.17380509 0.1663563  0.14938961 0.15187254 0.15352783 0.15145872\n",
      " 0.14649286 0.1491827  0.13242293 0.12849162 0.11793917 0.11628388\n",
      " 0.12290503 0.12725016 0.13490586 0.13345748 0.13242293 0.13056073\n",
      " 0.13242293 0.13138837 0.13987172 0.14938961 0.1568384  0.15145872\n",
      " 0.14318229 0.13449203 0.15394165 0.13242293 0.15352783 0.16656321\n",
      " 0.16656321 0.16987378 0.16870871 0.17149262]\n",
      "2 day output [[0.17252317]]\n",
      "3 day input [0.13738879 0.13490586 0.14214773 0.13656114 0.12849162 0.12456031\n",
      " 0.09724809 0.1127664  0.14959652 0.14111318 0.15311401 0.1452514\n",
      " 0.14607904 0.16552866 0.17835713 0.18290917 0.19573764 0.19449617\n",
      " 0.18270226 0.18415063 0.18704738 0.17835713 0.18208152 0.18435754\n",
      " 0.17794331 0.16759777 0.19573764 0.18849576 0.19325471 0.19966894\n",
      " 0.1988413  0.20153114 0.2007035  0.19925512 0.19180633 0.20028968\n",
      " 0.21125595 0.21249741 0.20691082 0.22056694 0.21146286 0.20546245\n",
      " 0.19490999 0.17877095 0.17877095 0.17090834 0.16201117 0.17049452\n",
      " 0.174012   0.17856404 0.17732257 0.16511484 0.16470101 0.16987378\n",
      " 0.17380509 0.1721498  0.17173598 0.17794331 0.18001241 0.1874612\n",
      " 0.19325471 0.18663356 0.17421891 0.17711566 0.17318436 0.17380509\n",
      " 0.1663563  0.14938961 0.15187254 0.15352783 0.15145872 0.14649286\n",
      " 0.1491827  0.13242293 0.12849162 0.11793917 0.11628388 0.12290503\n",
      " 0.12725016 0.13490586 0.13345748 0.13242293 0.13056073 0.13242293\n",
      " 0.13138837 0.13987172 0.14938961 0.1568384  0.15145872 0.14318229\n",
      " 0.13449203 0.15394165 0.13242293 0.15352783 0.16656321 0.16656321\n",
      " 0.16987378 0.16870871 0.17149262 0.17252317]\n",
      "3 day output [[0.17283389]]\n",
      "4 day input [0.13490586 0.14214773 0.13656114 0.12849162 0.12456031 0.09724809\n",
      " 0.1127664  0.14959652 0.14111318 0.15311401 0.1452514  0.14607904\n",
      " 0.16552866 0.17835713 0.18290917 0.19573764 0.19449617 0.18270226\n",
      " 0.18415063 0.18704738 0.17835713 0.18208152 0.18435754 0.17794331\n",
      " 0.16759777 0.19573764 0.18849576 0.19325471 0.19966894 0.1988413\n",
      " 0.20153114 0.2007035  0.19925512 0.19180633 0.20028968 0.21125595\n",
      " 0.21249741 0.20691082 0.22056694 0.21146286 0.20546245 0.19490999\n",
      " 0.17877095 0.17877095 0.17090834 0.16201117 0.17049452 0.174012\n",
      " 0.17856404 0.17732257 0.16511484 0.16470101 0.16987378 0.17380509\n",
      " 0.1721498  0.17173598 0.17794331 0.18001241 0.1874612  0.19325471\n",
      " 0.18663356 0.17421891 0.17711566 0.17318436 0.17380509 0.1663563\n",
      " 0.14938961 0.15187254 0.15352783 0.15145872 0.14649286 0.1491827\n",
      " 0.13242293 0.12849162 0.11793917 0.11628388 0.12290503 0.12725016\n",
      " 0.13490586 0.13345748 0.13242293 0.13056073 0.13242293 0.13138837\n",
      " 0.13987172 0.14938961 0.1568384  0.15145872 0.14318229 0.13449203\n",
      " 0.15394165 0.13242293 0.15352783 0.16656321 0.16656321 0.16987378\n",
      " 0.16870871 0.17149262 0.17252317 0.17283389]\n",
      "4 day output [[0.17283818]]\n",
      "5 day input [0.14214773 0.13656114 0.12849162 0.12456031 0.09724809 0.1127664\n",
      " 0.14959652 0.14111318 0.15311401 0.1452514  0.14607904 0.16552866\n",
      " 0.17835713 0.18290917 0.19573764 0.19449617 0.18270226 0.18415063\n",
      " 0.18704738 0.17835713 0.18208152 0.18435754 0.17794331 0.16759777\n",
      " 0.19573764 0.18849576 0.19325471 0.19966894 0.1988413  0.20153114\n",
      " 0.2007035  0.19925512 0.19180633 0.20028968 0.21125595 0.21249741\n",
      " 0.20691082 0.22056694 0.21146286 0.20546245 0.19490999 0.17877095\n",
      " 0.17877095 0.17090834 0.16201117 0.17049452 0.174012   0.17856404\n",
      " 0.17732257 0.16511484 0.16470101 0.16987378 0.17380509 0.1721498\n",
      " 0.17173598 0.17794331 0.18001241 0.1874612  0.19325471 0.18663356\n",
      " 0.17421891 0.17711566 0.17318436 0.17380509 0.1663563  0.14938961\n",
      " 0.15187254 0.15352783 0.15145872 0.14649286 0.1491827  0.13242293\n",
      " 0.12849162 0.11793917 0.11628388 0.12290503 0.12725016 0.13490586\n",
      " 0.13345748 0.13242293 0.13056073 0.13242293 0.13138837 0.13987172\n",
      " 0.14938961 0.1568384  0.15145872 0.14318229 0.13449203 0.15394165\n",
      " 0.13242293 0.15352783 0.16656321 0.16656321 0.16987378 0.16870871\n",
      " 0.17149262 0.17252317 0.17283389 0.17283818]\n",
      "5 day output [[0.17271022]]\n",
      "6 day input [0.13656114 0.12849162 0.12456031 0.09724809 0.1127664  0.14959652\n",
      " 0.14111318 0.15311401 0.1452514  0.14607904 0.16552866 0.17835713\n",
      " 0.18290917 0.19573764 0.19449617 0.18270226 0.18415063 0.18704738\n",
      " 0.17835713 0.18208152 0.18435754 0.17794331 0.16759777 0.19573764\n",
      " 0.18849576 0.19325471 0.19966894 0.1988413  0.20153114 0.2007035\n",
      " 0.19925512 0.19180633 0.20028968 0.21125595 0.21249741 0.20691082\n",
      " 0.22056694 0.21146286 0.20546245 0.19490999 0.17877095 0.17877095\n",
      " 0.17090834 0.16201117 0.17049452 0.174012   0.17856404 0.17732257\n",
      " 0.16511484 0.16470101 0.16987378 0.17380509 0.1721498  0.17173598\n",
      " 0.17794331 0.18001241 0.1874612  0.19325471 0.18663356 0.17421891\n",
      " 0.17711566 0.17318436 0.17380509 0.1663563  0.14938961 0.15187254\n",
      " 0.15352783 0.15145872 0.14649286 0.1491827  0.13242293 0.12849162\n",
      " 0.11793917 0.11628388 0.12290503 0.12725016 0.13490586 0.13345748\n",
      " 0.13242293 0.13056073 0.13242293 0.13138837 0.13987172 0.14938961\n",
      " 0.1568384  0.15145872 0.14318229 0.13449203 0.15394165 0.13242293\n",
      " 0.15352783 0.16656321 0.16656321 0.16987378 0.16870871 0.17149262\n",
      " 0.17252317 0.17283389 0.17283818 0.17271022]\n",
      "6 day output [[0.17254815]]\n",
      "7 day input [0.12849162 0.12456031 0.09724809 0.1127664  0.14959652 0.14111318\n",
      " 0.15311401 0.1452514  0.14607904 0.16552866 0.17835713 0.18290917\n",
      " 0.19573764 0.19449617 0.18270226 0.18415063 0.18704738 0.17835713\n",
      " 0.18208152 0.18435754 0.17794331 0.16759777 0.19573764 0.18849576\n",
      " 0.19325471 0.19966894 0.1988413  0.20153114 0.2007035  0.19925512\n",
      " 0.19180633 0.20028968 0.21125595 0.21249741 0.20691082 0.22056694\n",
      " 0.21146286 0.20546245 0.19490999 0.17877095 0.17877095 0.17090834\n",
      " 0.16201117 0.17049452 0.174012   0.17856404 0.17732257 0.16511484\n",
      " 0.16470101 0.16987378 0.17380509 0.1721498  0.17173598 0.17794331\n",
      " 0.18001241 0.1874612  0.19325471 0.18663356 0.17421891 0.17711566\n",
      " 0.17318436 0.17380509 0.1663563  0.14938961 0.15187254 0.15352783\n",
      " 0.15145872 0.14649286 0.1491827  0.13242293 0.12849162 0.11793917\n",
      " 0.11628388 0.12290503 0.12725016 0.13490586 0.13345748 0.13242293\n",
      " 0.13056073 0.13242293 0.13138837 0.13987172 0.14938961 0.1568384\n",
      " 0.15145872 0.14318229 0.13449203 0.15394165 0.13242293 0.15352783\n",
      " 0.16656321 0.16656321 0.16987378 0.16870871 0.17149262 0.17252317\n",
      " 0.17283389 0.17283818 0.17271022 0.17254815]\n",
      "7 day output [[0.17241664]]\n",
      "8 day input [0.12456031 0.09724809 0.1127664  0.14959652 0.14111318 0.15311401\n",
      " 0.1452514  0.14607904 0.16552866 0.17835713 0.18290917 0.19573764\n",
      " 0.19449617 0.18270226 0.18415063 0.18704738 0.17835713 0.18208152\n",
      " 0.18435754 0.17794331 0.16759777 0.19573764 0.18849576 0.19325471\n",
      " 0.19966894 0.1988413  0.20153114 0.2007035  0.19925512 0.19180633\n",
      " 0.20028968 0.21125595 0.21249741 0.20691082 0.22056694 0.21146286\n",
      " 0.20546245 0.19490999 0.17877095 0.17877095 0.17090834 0.16201117\n",
      " 0.17049452 0.174012   0.17856404 0.17732257 0.16511484 0.16470101\n",
      " 0.16987378 0.17380509 0.1721498  0.17173598 0.17794331 0.18001241\n",
      " 0.1874612  0.19325471 0.18663356 0.17421891 0.17711566 0.17318436\n",
      " 0.17380509 0.1663563  0.14938961 0.15187254 0.15352783 0.15145872\n",
      " 0.14649286 0.1491827  0.13242293 0.12849162 0.11793917 0.11628388\n",
      " 0.12290503 0.12725016 0.13490586 0.13345748 0.13242293 0.13056073\n",
      " 0.13242293 0.13138837 0.13987172 0.14938961 0.1568384  0.15145872\n",
      " 0.14318229 0.13449203 0.15394165 0.13242293 0.15352783 0.16656321\n",
      " 0.16656321 0.16987378 0.16870871 0.17149262 0.17252317 0.17283389\n",
      " 0.17283818 0.17271022 0.17254815 0.17241664]\n"
     ]
    },
    {
     "name": "stdout",
     "output_type": "stream",
     "text": [
      "8 day output [[0.17235515]]\n",
      "9 day input [0.09724809 0.1127664  0.14959652 0.14111318 0.15311401 0.1452514\n",
      " 0.14607904 0.16552866 0.17835713 0.18290917 0.19573764 0.19449617\n",
      " 0.18270226 0.18415063 0.18704738 0.17835713 0.18208152 0.18435754\n",
      " 0.17794331 0.16759777 0.19573764 0.18849576 0.19325471 0.19966894\n",
      " 0.1988413  0.20153114 0.2007035  0.19925512 0.19180633 0.20028968\n",
      " 0.21125595 0.21249741 0.20691082 0.22056694 0.21146286 0.20546245\n",
      " 0.19490999 0.17877095 0.17877095 0.17090834 0.16201117 0.17049452\n",
      " 0.174012   0.17856404 0.17732257 0.16511484 0.16470101 0.16987378\n",
      " 0.17380509 0.1721498  0.17173598 0.17794331 0.18001241 0.1874612\n",
      " 0.19325471 0.18663356 0.17421891 0.17711566 0.17318436 0.17380509\n",
      " 0.1663563  0.14938961 0.15187254 0.15352783 0.15145872 0.14649286\n",
      " 0.1491827  0.13242293 0.12849162 0.11793917 0.11628388 0.12290503\n",
      " 0.12725016 0.13490586 0.13345748 0.13242293 0.13056073 0.13242293\n",
      " 0.13138837 0.13987172 0.14938961 0.1568384  0.15145872 0.14318229\n",
      " 0.13449203 0.15394165 0.13242293 0.15352783 0.16656321 0.16656321\n",
      " 0.16987378 0.16870871 0.17149262 0.17252317 0.17283389 0.17283818\n",
      " 0.17271022 0.17254815 0.17241664 0.17235515]\n",
      "9 day output [[0.1723816]]\n",
      "10 day input [0.1127664  0.14959652 0.14111318 0.15311401 0.1452514  0.14607904\n",
      " 0.16552866 0.17835713 0.18290917 0.19573764 0.19449617 0.18270226\n",
      " 0.18415063 0.18704738 0.17835713 0.18208152 0.18435754 0.17794331\n",
      " 0.16759777 0.19573764 0.18849576 0.19325471 0.19966894 0.1988413\n",
      " 0.20153114 0.2007035  0.19925512 0.19180633 0.20028968 0.21125595\n",
      " 0.21249741 0.20691082 0.22056694 0.21146286 0.20546245 0.19490999\n",
      " 0.17877095 0.17877095 0.17090834 0.16201117 0.17049452 0.174012\n",
      " 0.17856404 0.17732257 0.16511484 0.16470101 0.16987378 0.17380509\n",
      " 0.1721498  0.17173598 0.17794331 0.18001241 0.1874612  0.19325471\n",
      " 0.18663356 0.17421891 0.17711566 0.17318436 0.17380509 0.1663563\n",
      " 0.14938961 0.15187254 0.15352783 0.15145872 0.14649286 0.1491827\n",
      " 0.13242293 0.12849162 0.11793917 0.11628388 0.12290503 0.12725016\n",
      " 0.13490586 0.13345748 0.13242293 0.13056073 0.13242293 0.13138837\n",
      " 0.13987172 0.14938961 0.1568384  0.15145872 0.14318229 0.13449203\n",
      " 0.15394165 0.13242293 0.15352783 0.16656321 0.16656321 0.16987378\n",
      " 0.16870871 0.17149262 0.17252317 0.17283389 0.17283818 0.17271022\n",
      " 0.17254815 0.17241664 0.17235515 0.17238159]\n",
      "10 day output [[0.17249794]]\n",
      "11 day input [0.14959652 0.14111318 0.15311401 0.1452514  0.14607904 0.16552866\n",
      " 0.17835713 0.18290917 0.19573764 0.19449617 0.18270226 0.18415063\n",
      " 0.18704738 0.17835713 0.18208152 0.18435754 0.17794331 0.16759777\n",
      " 0.19573764 0.18849576 0.19325471 0.19966894 0.1988413  0.20153114\n",
      " 0.2007035  0.19925512 0.19180633 0.20028968 0.21125595 0.21249741\n",
      " 0.20691082 0.22056694 0.21146286 0.20546245 0.19490999 0.17877095\n",
      " 0.17877095 0.17090834 0.16201117 0.17049452 0.174012   0.17856404\n",
      " 0.17732257 0.16511484 0.16470101 0.16987378 0.17380509 0.1721498\n",
      " 0.17173598 0.17794331 0.18001241 0.1874612  0.19325471 0.18663356\n",
      " 0.17421891 0.17711566 0.17318436 0.17380509 0.1663563  0.14938961\n",
      " 0.15187254 0.15352783 0.15145872 0.14649286 0.1491827  0.13242293\n",
      " 0.12849162 0.11793917 0.11628388 0.12290503 0.12725016 0.13490586\n",
      " 0.13345748 0.13242293 0.13056073 0.13242293 0.13138837 0.13987172\n",
      " 0.14938961 0.1568384  0.15145872 0.14318229 0.13449203 0.15394165\n",
      " 0.13242293 0.15352783 0.16656321 0.16656321 0.16987378 0.16870871\n",
      " 0.17149262 0.17252317 0.17283389 0.17283818 0.17271022 0.17254815\n",
      " 0.17241664 0.17235515 0.17238159 0.17249794]\n",
      "11 day output [[0.17269586]]\n",
      "12 day input [0.14111318 0.15311401 0.1452514  0.14607904 0.16552866 0.17835713\n",
      " 0.18290917 0.19573764 0.19449617 0.18270226 0.18415063 0.18704738\n",
      " 0.17835713 0.18208152 0.18435754 0.17794331 0.16759777 0.19573764\n",
      " 0.18849576 0.19325471 0.19966894 0.1988413  0.20153114 0.2007035\n",
      " 0.19925512 0.19180633 0.20028968 0.21125595 0.21249741 0.20691082\n",
      " 0.22056694 0.21146286 0.20546245 0.19490999 0.17877095 0.17877095\n",
      " 0.17090834 0.16201117 0.17049452 0.174012   0.17856404 0.17732257\n",
      " 0.16511484 0.16470101 0.16987378 0.17380509 0.1721498  0.17173598\n",
      " 0.17794331 0.18001241 0.1874612  0.19325471 0.18663356 0.17421891\n",
      " 0.17711566 0.17318436 0.17380509 0.1663563  0.14938961 0.15187254\n",
      " 0.15352783 0.15145872 0.14649286 0.1491827  0.13242293 0.12849162\n",
      " 0.11793917 0.11628388 0.12290503 0.12725016 0.13490586 0.13345748\n",
      " 0.13242293 0.13056073 0.13242293 0.13138837 0.13987172 0.14938961\n",
      " 0.1568384  0.15145872 0.14318229 0.13449203 0.15394165 0.13242293\n",
      " 0.15352783 0.16656321 0.16656321 0.16987378 0.16870871 0.17149262\n",
      " 0.17252317 0.17283389 0.17283818 0.17271022 0.17254815 0.17241664\n",
      " 0.17235515 0.17238159 0.17249794 0.17269586]\n",
      "12 day output [[0.17296156]]\n",
      "13 day input [0.15311401 0.1452514  0.14607904 0.16552866 0.17835713 0.18290917\n",
      " 0.19573764 0.19449617 0.18270226 0.18415063 0.18704738 0.17835713\n",
      " 0.18208152 0.18435754 0.17794331 0.16759777 0.19573764 0.18849576\n",
      " 0.19325471 0.19966894 0.1988413  0.20153114 0.2007035  0.19925512\n",
      " 0.19180633 0.20028968 0.21125595 0.21249741 0.20691082 0.22056694\n",
      " 0.21146286 0.20546245 0.19490999 0.17877095 0.17877095 0.17090834\n",
      " 0.16201117 0.17049452 0.174012   0.17856404 0.17732257 0.16511484\n",
      " 0.16470101 0.16987378 0.17380509 0.1721498  0.17173598 0.17794331\n",
      " 0.18001241 0.1874612  0.19325471 0.18663356 0.17421891 0.17711566\n",
      " 0.17318436 0.17380509 0.1663563  0.14938961 0.15187254 0.15352783\n",
      " 0.15145872 0.14649286 0.1491827  0.13242293 0.12849162 0.11793917\n",
      " 0.11628388 0.12290503 0.12725016 0.13490586 0.13345748 0.13242293\n",
      " 0.13056073 0.13242293 0.13138837 0.13987172 0.14938961 0.1568384\n",
      " 0.15145872 0.14318229 0.13449203 0.15394165 0.13242293 0.15352783\n",
      " 0.16656321 0.16656321 0.16987378 0.16870871 0.17149262 0.17252317\n",
      " 0.17283389 0.17283818 0.17271022 0.17254815 0.17241664 0.17235515\n",
      " 0.17238159 0.17249794 0.17269586 0.17296156]\n",
      "13 day output [[0.17327954]]\n",
      "14 day input [0.1452514  0.14607904 0.16552866 0.17835713 0.18290917 0.19573764\n",
      " 0.19449617 0.18270226 0.18415063 0.18704738 0.17835713 0.18208152\n",
      " 0.18435754 0.17794331 0.16759777 0.19573764 0.18849576 0.19325471\n",
      " 0.19966894 0.1988413  0.20153114 0.2007035  0.19925512 0.19180633\n",
      " 0.20028968 0.21125595 0.21249741 0.20691082 0.22056694 0.21146286\n",
      " 0.20546245 0.19490999 0.17877095 0.17877095 0.17090834 0.16201117\n",
      " 0.17049452 0.174012   0.17856404 0.17732257 0.16511484 0.16470101\n",
      " 0.16987378 0.17380509 0.1721498  0.17173598 0.17794331 0.18001241\n",
      " 0.1874612  0.19325471 0.18663356 0.17421891 0.17711566 0.17318436\n",
      " 0.17380509 0.1663563  0.14938961 0.15187254 0.15352783 0.15145872\n",
      " 0.14649286 0.1491827  0.13242293 0.12849162 0.11793917 0.11628388\n",
      " 0.12290503 0.12725016 0.13490586 0.13345748 0.13242293 0.13056073\n",
      " 0.13242293 0.13138837 0.13987172 0.14938961 0.1568384  0.15145872\n",
      " 0.14318229 0.13449203 0.15394165 0.13242293 0.15352783 0.16656321\n",
      " 0.16656321 0.16987378 0.16870871 0.17149262 0.17252317 0.17283389\n",
      " 0.17283818 0.17271022 0.17254815 0.17241664 0.17235515 0.17238159\n",
      " 0.17249794 0.17269586 0.17296156 0.17327954]\n",
      "14 day output [[0.17363493]]\n",
      "15 day input [0.14607904 0.16552866 0.17835713 0.18290917 0.19573764 0.19449617\n",
      " 0.18270226 0.18415063 0.18704738 0.17835713 0.18208152 0.18435754\n",
      " 0.17794331 0.16759777 0.19573764 0.18849576 0.19325471 0.19966894\n",
      " 0.1988413  0.20153114 0.2007035  0.19925512 0.19180633 0.20028968\n",
      " 0.21125595 0.21249741 0.20691082 0.22056694 0.21146286 0.20546245\n",
      " 0.19490999 0.17877095 0.17877095 0.17090834 0.16201117 0.17049452\n",
      " 0.174012   0.17856404 0.17732257 0.16511484 0.16470101 0.16987378\n",
      " 0.17380509 0.1721498  0.17173598 0.17794331 0.18001241 0.1874612\n",
      " 0.19325471 0.18663356 0.17421891 0.17711566 0.17318436 0.17380509\n",
      " 0.1663563  0.14938961 0.15187254 0.15352783 0.15145872 0.14649286\n",
      " 0.1491827  0.13242293 0.12849162 0.11793917 0.11628388 0.12290503\n",
      " 0.12725016 0.13490586 0.13345748 0.13242293 0.13056073 0.13242293\n",
      " 0.13138837 0.13987172 0.14938961 0.1568384  0.15145872 0.14318229\n",
      " 0.13449203 0.15394165 0.13242293 0.15352783 0.16656321 0.16656321\n",
      " 0.16987378 0.16870871 0.17149262 0.17252317 0.17283389 0.17283818\n",
      " 0.17271022 0.17254815 0.17241664 0.17235515 0.17238159 0.17249794\n",
      " 0.17269586 0.17296156 0.17327954 0.17363493]\n",
      "15 day output [[0.17401521]]\n",
      "16 day input [0.16552866 0.17835713 0.18290917 0.19573764 0.19449617 0.18270226\n",
      " 0.18415063 0.18704738 0.17835713 0.18208152 0.18435754 0.17794331\n",
      " 0.16759777 0.19573764 0.18849576 0.19325471 0.19966894 0.1988413\n",
      " 0.20153114 0.2007035  0.19925512 0.19180633 0.20028968 0.21125595\n",
      " 0.21249741 0.20691082 0.22056694 0.21146286 0.20546245 0.19490999\n",
      " 0.17877095 0.17877095 0.17090834 0.16201117 0.17049452 0.174012\n",
      " 0.17856404 0.17732257 0.16511484 0.16470101 0.16987378 0.17380509\n",
      " 0.1721498  0.17173598 0.17794331 0.18001241 0.1874612  0.19325471\n",
      " 0.18663356 0.17421891 0.17711566 0.17318436 0.17380509 0.1663563\n",
      " 0.14938961 0.15187254 0.15352783 0.15145872 0.14649286 0.1491827\n",
      " 0.13242293 0.12849162 0.11793917 0.11628388 0.12290503 0.12725016\n",
      " 0.13490586 0.13345748 0.13242293 0.13056073 0.13242293 0.13138837\n",
      " 0.13987172 0.14938961 0.1568384  0.15145872 0.14318229 0.13449203\n",
      " 0.15394165 0.13242293 0.15352783 0.16656321 0.16656321 0.16987378\n",
      " 0.16870871 0.17149262 0.17252317 0.17283389 0.17283818 0.17271022\n",
      " 0.17254815 0.17241664 0.17235515 0.17238159 0.17249794 0.17269586\n",
      " 0.17296156 0.17327954 0.17363493 0.17401521]\n",
      "16 day output [[0.17441046]]\n",
      "17 day input [0.17835713 0.18290917 0.19573764 0.19449617 0.18270226 0.18415063\n",
      " 0.18704738 0.17835713 0.18208152 0.18435754 0.17794331 0.16759777\n",
      " 0.19573764 0.18849576 0.19325471 0.19966894 0.1988413  0.20153114\n",
      " 0.2007035  0.19925512 0.19180633 0.20028968 0.21125595 0.21249741\n",
      " 0.20691082 0.22056694 0.21146286 0.20546245 0.19490999 0.17877095\n",
      " 0.17877095 0.17090834 0.16201117 0.17049452 0.174012   0.17856404\n",
      " 0.17732257 0.16511484 0.16470101 0.16987378 0.17380509 0.1721498\n",
      " 0.17173598 0.17794331 0.18001241 0.1874612  0.19325471 0.18663356\n",
      " 0.17421891 0.17711566 0.17318436 0.17380509 0.1663563  0.14938961\n",
      " 0.15187254 0.15352783 0.15145872 0.14649286 0.1491827  0.13242293\n",
      " 0.12849162 0.11793917 0.11628388 0.12290503 0.12725016 0.13490586\n",
      " 0.13345748 0.13242293 0.13056073 0.13242293 0.13138837 0.13987172\n",
      " 0.14938961 0.1568384  0.15145872 0.14318229 0.13449203 0.15394165\n",
      " 0.13242293 0.15352783 0.16656321 0.16656321 0.16987378 0.16870871\n",
      " 0.17149262 0.17252317 0.17283389 0.17283818 0.17271022 0.17254815\n",
      " 0.17241664 0.17235515 0.17238159 0.17249794 0.17269586 0.17296156\n"
     ]
    },
    {
     "name": "stdout",
     "output_type": "stream",
     "text": [
      " 0.17327954 0.17363493 0.17401521 0.17441046]\n",
      "17 day output [[0.17481361]]\n",
      "18 day input [0.18290917 0.19573764 0.19449617 0.18270226 0.18415063 0.18704738\n",
      " 0.17835713 0.18208152 0.18435754 0.17794331 0.16759777 0.19573764\n",
      " 0.18849576 0.19325471 0.19966894 0.1988413  0.20153114 0.2007035\n",
      " 0.19925512 0.19180633 0.20028968 0.21125595 0.21249741 0.20691082\n",
      " 0.22056694 0.21146286 0.20546245 0.19490999 0.17877095 0.17877095\n",
      " 0.17090834 0.16201117 0.17049452 0.174012   0.17856404 0.17732257\n",
      " 0.16511484 0.16470101 0.16987378 0.17380509 0.1721498  0.17173598\n",
      " 0.17794331 0.18001241 0.1874612  0.19325471 0.18663356 0.17421891\n",
      " 0.17711566 0.17318436 0.17380509 0.1663563  0.14938961 0.15187254\n",
      " 0.15352783 0.15145872 0.14649286 0.1491827  0.13242293 0.12849162\n",
      " 0.11793917 0.11628388 0.12290503 0.12725016 0.13490586 0.13345748\n",
      " 0.13242293 0.13056073 0.13242293 0.13138837 0.13987172 0.14938961\n",
      " 0.1568384  0.15145872 0.14318229 0.13449203 0.15394165 0.13242293\n",
      " 0.15352783 0.16656321 0.16656321 0.16987378 0.16870871 0.17149262\n",
      " 0.17252317 0.17283389 0.17283818 0.17271022 0.17254815 0.17241664\n",
      " 0.17235515 0.17238159 0.17249794 0.17269586 0.17296156 0.17327954\n",
      " 0.17363493 0.17401521 0.17441046 0.17481361]\n",
      "18 day output [[0.17522019]]\n",
      "19 day input [0.19573764 0.19449617 0.18270226 0.18415063 0.18704738 0.17835713\n",
      " 0.18208152 0.18435754 0.17794331 0.16759777 0.19573764 0.18849576\n",
      " 0.19325471 0.19966894 0.1988413  0.20153114 0.2007035  0.19925512\n",
      " 0.19180633 0.20028968 0.21125595 0.21249741 0.20691082 0.22056694\n",
      " 0.21146286 0.20546245 0.19490999 0.17877095 0.17877095 0.17090834\n",
      " 0.16201117 0.17049452 0.174012   0.17856404 0.17732257 0.16511484\n",
      " 0.16470101 0.16987378 0.17380509 0.1721498  0.17173598 0.17794331\n",
      " 0.18001241 0.1874612  0.19325471 0.18663356 0.17421891 0.17711566\n",
      " 0.17318436 0.17380509 0.1663563  0.14938961 0.15187254 0.15352783\n",
      " 0.15145872 0.14649286 0.1491827  0.13242293 0.12849162 0.11793917\n",
      " 0.11628388 0.12290503 0.12725016 0.13490586 0.13345748 0.13242293\n",
      " 0.13056073 0.13242293 0.13138837 0.13987172 0.14938961 0.1568384\n",
      " 0.15145872 0.14318229 0.13449203 0.15394165 0.13242293 0.15352783\n",
      " 0.16656321 0.16656321 0.16987378 0.16870871 0.17149262 0.17252317\n",
      " 0.17283389 0.17283818 0.17271022 0.17254815 0.17241664 0.17235515\n",
      " 0.17238159 0.17249794 0.17269586 0.17296156 0.17327954 0.17363493\n",
      " 0.17401521 0.17441046 0.17481361 0.17522019]\n",
      "19 day output [[0.17562748]]\n",
      "20 day input [0.19449617 0.18270226 0.18415063 0.18704738 0.17835713 0.18208152\n",
      " 0.18435754 0.17794331 0.16759777 0.19573764 0.18849576 0.19325471\n",
      " 0.19966894 0.1988413  0.20153114 0.2007035  0.19925512 0.19180633\n",
      " 0.20028968 0.21125595 0.21249741 0.20691082 0.22056694 0.21146286\n",
      " 0.20546245 0.19490999 0.17877095 0.17877095 0.17090834 0.16201117\n",
      " 0.17049452 0.174012   0.17856404 0.17732257 0.16511484 0.16470101\n",
      " 0.16987378 0.17380509 0.1721498  0.17173598 0.17794331 0.18001241\n",
      " 0.1874612  0.19325471 0.18663356 0.17421891 0.17711566 0.17318436\n",
      " 0.17380509 0.1663563  0.14938961 0.15187254 0.15352783 0.15145872\n",
      " 0.14649286 0.1491827  0.13242293 0.12849162 0.11793917 0.11628388\n",
      " 0.12290503 0.12725016 0.13490586 0.13345748 0.13242293 0.13056073\n",
      " 0.13242293 0.13138837 0.13987172 0.14938961 0.1568384  0.15145872\n",
      " 0.14318229 0.13449203 0.15394165 0.13242293 0.15352783 0.16656321\n",
      " 0.16656321 0.16987378 0.16870871 0.17149262 0.17252317 0.17283389\n",
      " 0.17283818 0.17271022 0.17254815 0.17241664 0.17235515 0.17238159\n",
      " 0.17249794 0.17269586 0.17296156 0.17327954 0.17363493 0.17401521\n",
      " 0.17441046 0.17481361 0.17522019 0.17562748]\n",
      "20 day output [[0.17603417]]\n",
      "21 day input [0.18270226 0.18415063 0.18704738 0.17835713 0.18208152 0.18435754\n",
      " 0.17794331 0.16759777 0.19573764 0.18849576 0.19325471 0.19966894\n",
      " 0.1988413  0.20153114 0.2007035  0.19925512 0.19180633 0.20028968\n",
      " 0.21125595 0.21249741 0.20691082 0.22056694 0.21146286 0.20546245\n",
      " 0.19490999 0.17877095 0.17877095 0.17090834 0.16201117 0.17049452\n",
      " 0.174012   0.17856404 0.17732257 0.16511484 0.16470101 0.16987378\n",
      " 0.17380509 0.1721498  0.17173598 0.17794331 0.18001241 0.1874612\n",
      " 0.19325471 0.18663356 0.17421891 0.17711566 0.17318436 0.17380509\n",
      " 0.1663563  0.14938961 0.15187254 0.15352783 0.15145872 0.14649286\n",
      " 0.1491827  0.13242293 0.12849162 0.11793917 0.11628388 0.12290503\n",
      " 0.12725016 0.13490586 0.13345748 0.13242293 0.13056073 0.13242293\n",
      " 0.13138837 0.13987172 0.14938961 0.1568384  0.15145872 0.14318229\n",
      " 0.13449203 0.15394165 0.13242293 0.15352783 0.16656321 0.16656321\n",
      " 0.16987378 0.16870871 0.17149262 0.17252317 0.17283389 0.17283818\n",
      " 0.17271022 0.17254815 0.17241664 0.17235515 0.17238159 0.17249794\n",
      " 0.17269586 0.17296156 0.17327954 0.17363493 0.17401521 0.17441046\n",
      " 0.17481361 0.17522019 0.17562748 0.17603417]\n",
      "21 day output [[0.17643961]]\n",
      "22 day input [0.18415063 0.18704738 0.17835713 0.18208152 0.18435754 0.17794331\n",
      " 0.16759777 0.19573764 0.18849576 0.19325471 0.19966894 0.1988413\n",
      " 0.20153114 0.2007035  0.19925512 0.19180633 0.20028968 0.21125595\n",
      " 0.21249741 0.20691082 0.22056694 0.21146286 0.20546245 0.19490999\n",
      " 0.17877095 0.17877095 0.17090834 0.16201117 0.17049452 0.174012\n",
      " 0.17856404 0.17732257 0.16511484 0.16470101 0.16987378 0.17380509\n",
      " 0.1721498  0.17173598 0.17794331 0.18001241 0.1874612  0.19325471\n",
      " 0.18663356 0.17421891 0.17711566 0.17318436 0.17380509 0.1663563\n",
      " 0.14938961 0.15187254 0.15352783 0.15145872 0.14649286 0.1491827\n",
      " 0.13242293 0.12849162 0.11793917 0.11628388 0.12290503 0.12725016\n",
      " 0.13490586 0.13345748 0.13242293 0.13056073 0.13242293 0.13138837\n",
      " 0.13987172 0.14938961 0.1568384  0.15145872 0.14318229 0.13449203\n",
      " 0.15394165 0.13242293 0.15352783 0.16656321 0.16656321 0.16987378\n",
      " 0.16870871 0.17149262 0.17252317 0.17283389 0.17283818 0.17271022\n",
      " 0.17254815 0.17241664 0.17235515 0.17238159 0.17249794 0.17269586\n",
      " 0.17296156 0.17327954 0.17363493 0.17401521 0.17441046 0.17481361\n",
      " 0.17522019 0.17562748 0.17603417 0.17643961]\n",
      "22 day output [[0.1768436]]\n",
      "23 day input [0.18704738 0.17835713 0.18208152 0.18435754 0.17794331 0.16759777\n",
      " 0.19573764 0.18849576 0.19325471 0.19966894 0.1988413  0.20153114\n",
      " 0.2007035  0.19925512 0.19180633 0.20028968 0.21125595 0.21249741\n",
      " 0.20691082 0.22056694 0.21146286 0.20546245 0.19490999 0.17877095\n",
      " 0.17877095 0.17090834 0.16201117 0.17049452 0.174012   0.17856404\n",
      " 0.17732257 0.16511484 0.16470101 0.16987378 0.17380509 0.1721498\n",
      " 0.17173598 0.17794331 0.18001241 0.1874612  0.19325471 0.18663356\n",
      " 0.17421891 0.17711566 0.17318436 0.17380509 0.1663563  0.14938961\n",
      " 0.15187254 0.15352783 0.15145872 0.14649286 0.1491827  0.13242293\n",
      " 0.12849162 0.11793917 0.11628388 0.12290503 0.12725016 0.13490586\n",
      " 0.13345748 0.13242293 0.13056073 0.13242293 0.13138837 0.13987172\n",
      " 0.14938961 0.1568384  0.15145872 0.14318229 0.13449203 0.15394165\n",
      " 0.13242293 0.15352783 0.16656321 0.16656321 0.16987378 0.16870871\n",
      " 0.17149262 0.17252317 0.17283389 0.17283818 0.17271022 0.17254815\n",
      " 0.17241664 0.17235515 0.17238159 0.17249794 0.17269586 0.17296156\n",
      " 0.17327954 0.17363493 0.17401521 0.17441046 0.17481361 0.17522019\n",
      " 0.17562748 0.17603417 0.17643961 0.1768436 ]\n",
      "23 day output [[0.17724584]]\n",
      "24 day input [0.17835713 0.18208152 0.18435754 0.17794331 0.16759777 0.19573764\n",
      " 0.18849576 0.19325471 0.19966894 0.1988413  0.20153114 0.2007035\n",
      " 0.19925512 0.19180633 0.20028968 0.21125595 0.21249741 0.20691082\n",
      " 0.22056694 0.21146286 0.20546245 0.19490999 0.17877095 0.17877095\n",
      " 0.17090834 0.16201117 0.17049452 0.174012   0.17856404 0.17732257\n",
      " 0.16511484 0.16470101 0.16987378 0.17380509 0.1721498  0.17173598\n",
      " 0.17794331 0.18001241 0.1874612  0.19325471 0.18663356 0.17421891\n",
      " 0.17711566 0.17318436 0.17380509 0.1663563  0.14938961 0.15187254\n",
      " 0.15352783 0.15145872 0.14649286 0.1491827  0.13242293 0.12849162\n",
      " 0.11793917 0.11628388 0.12290503 0.12725016 0.13490586 0.13345748\n",
      " 0.13242293 0.13056073 0.13242293 0.13138837 0.13987172 0.14938961\n",
      " 0.1568384  0.15145872 0.14318229 0.13449203 0.15394165 0.13242293\n",
      " 0.15352783 0.16656321 0.16656321 0.16987378 0.16870871 0.17149262\n",
      " 0.17252317 0.17283389 0.17283818 0.17271022 0.17254815 0.17241664\n",
      " 0.17235515 0.17238159 0.17249794 0.17269586 0.17296156 0.17327954\n",
      " 0.17363493 0.17401521 0.17441046 0.17481361 0.17522019 0.17562748\n",
      " 0.17603417 0.17643961 0.1768436  0.17724584]\n",
      "24 day output [[0.17764576]]\n",
      "25 day input [0.18208152 0.18435754 0.17794331 0.16759777 0.19573764 0.18849576\n",
      " 0.19325471 0.19966894 0.1988413  0.20153114 0.2007035  0.19925512\n",
      " 0.19180633 0.20028968 0.21125595 0.21249741 0.20691082 0.22056694\n",
      " 0.21146286 0.20546245 0.19490999 0.17877095 0.17877095 0.17090834\n",
      " 0.16201117 0.17049452 0.174012   0.17856404 0.17732257 0.16511484\n",
      " 0.16470101 0.16987378 0.17380509 0.1721498  0.17173598 0.17794331\n",
      " 0.18001241 0.1874612  0.19325471 0.18663356 0.17421891 0.17711566\n",
      " 0.17318436 0.17380509 0.1663563  0.14938961 0.15187254 0.15352783\n",
      " 0.15145872 0.14649286 0.1491827  0.13242293 0.12849162 0.11793917\n",
      " 0.11628388 0.12290503 0.12725016 0.13490586 0.13345748 0.13242293\n",
      " 0.13056073 0.13242293 0.13138837 0.13987172 0.14938961 0.1568384\n",
      " 0.15145872 0.14318229 0.13449203 0.15394165 0.13242293 0.15352783\n",
      " 0.16656321 0.16656321 0.16987378 0.16870871 0.17149262 0.17252317\n",
      " 0.17283389 0.17283818 0.17271022 0.17254815 0.17241664 0.17235515\n",
      " 0.17238159 0.17249794 0.17269586 0.17296156 0.17327954 0.17363493\n",
      " 0.17401521 0.17441046 0.17481361 0.17522019 0.17562748 0.17603417\n"
     ]
    },
    {
     "name": "stdout",
     "output_type": "stream",
     "text": [
      " 0.17643961 0.1768436  0.17724584 0.17764576]\n",
      "25 day output [[0.1780428]]\n",
      "26 day input [0.18435754 0.17794331 0.16759777 0.19573764 0.18849576 0.19325471\n",
      " 0.19966894 0.1988413  0.20153114 0.2007035  0.19925512 0.19180633\n",
      " 0.20028968 0.21125595 0.21249741 0.20691082 0.22056694 0.21146286\n",
      " 0.20546245 0.19490999 0.17877095 0.17877095 0.17090834 0.16201117\n",
      " 0.17049452 0.174012   0.17856404 0.17732257 0.16511484 0.16470101\n",
      " 0.16987378 0.17380509 0.1721498  0.17173598 0.17794331 0.18001241\n",
      " 0.1874612  0.19325471 0.18663356 0.17421891 0.17711566 0.17318436\n",
      " 0.17380509 0.1663563  0.14938961 0.15187254 0.15352783 0.15145872\n",
      " 0.14649286 0.1491827  0.13242293 0.12849162 0.11793917 0.11628388\n",
      " 0.12290503 0.12725016 0.13490586 0.13345748 0.13242293 0.13056073\n",
      " 0.13242293 0.13138837 0.13987172 0.14938961 0.1568384  0.15145872\n",
      " 0.14318229 0.13449203 0.15394165 0.13242293 0.15352783 0.16656321\n",
      " 0.16656321 0.16987378 0.16870871 0.17149262 0.17252317 0.17283389\n",
      " 0.17283818 0.17271022 0.17254815 0.17241664 0.17235515 0.17238159\n",
      " 0.17249794 0.17269586 0.17296156 0.17327954 0.17363493 0.17401521\n",
      " 0.17441046 0.17481361 0.17522019 0.17562748 0.17603417 0.17643961\n",
      " 0.1768436  0.17724584 0.17764576 0.1780428 ]\n",
      "26 day output [[0.17843595]]\n",
      "27 day input [0.17794331 0.16759777 0.19573764 0.18849576 0.19325471 0.19966894\n",
      " 0.1988413  0.20153114 0.2007035  0.19925512 0.19180633 0.20028968\n",
      " 0.21125595 0.21249741 0.20691082 0.22056694 0.21146286 0.20546245\n",
      " 0.19490999 0.17877095 0.17877095 0.17090834 0.16201117 0.17049452\n",
      " 0.174012   0.17856404 0.17732257 0.16511484 0.16470101 0.16987378\n",
      " 0.17380509 0.1721498  0.17173598 0.17794331 0.18001241 0.1874612\n",
      " 0.19325471 0.18663356 0.17421891 0.17711566 0.17318436 0.17380509\n",
      " 0.1663563  0.14938961 0.15187254 0.15352783 0.15145872 0.14649286\n",
      " 0.1491827  0.13242293 0.12849162 0.11793917 0.11628388 0.12290503\n",
      " 0.12725016 0.13490586 0.13345748 0.13242293 0.13056073 0.13242293\n",
      " 0.13138837 0.13987172 0.14938961 0.1568384  0.15145872 0.14318229\n",
      " 0.13449203 0.15394165 0.13242293 0.15352783 0.16656321 0.16656321\n",
      " 0.16987378 0.16870871 0.17149262 0.17252317 0.17283389 0.17283818\n",
      " 0.17271022 0.17254815 0.17241664 0.17235515 0.17238159 0.17249794\n",
      " 0.17269586 0.17296156 0.17327954 0.17363493 0.17401521 0.17441046\n",
      " 0.17481361 0.17522019 0.17562748 0.17603417 0.17643961 0.1768436\n",
      " 0.17724584 0.17764576 0.1780428  0.17843595]\n",
      "27 day output [[0.17882414]]\n",
      "28 day input [0.16759777 0.19573764 0.18849576 0.19325471 0.19966894 0.1988413\n",
      " 0.20153114 0.2007035  0.19925512 0.19180633 0.20028968 0.21125595\n",
      " 0.21249741 0.20691082 0.22056694 0.21146286 0.20546245 0.19490999\n",
      " 0.17877095 0.17877095 0.17090834 0.16201117 0.17049452 0.174012\n",
      " 0.17856404 0.17732257 0.16511484 0.16470101 0.16987378 0.17380509\n",
      " 0.1721498  0.17173598 0.17794331 0.18001241 0.1874612  0.19325471\n",
      " 0.18663356 0.17421891 0.17711566 0.17318436 0.17380509 0.1663563\n",
      " 0.14938961 0.15187254 0.15352783 0.15145872 0.14649286 0.1491827\n",
      " 0.13242293 0.12849162 0.11793917 0.11628388 0.12290503 0.12725016\n",
      " 0.13490586 0.13345748 0.13242293 0.13056073 0.13242293 0.13138837\n",
      " 0.13987172 0.14938961 0.1568384  0.15145872 0.14318229 0.13449203\n",
      " 0.15394165 0.13242293 0.15352783 0.16656321 0.16656321 0.16987378\n",
      " 0.16870871 0.17149262 0.17252317 0.17283389 0.17283818 0.17271022\n",
      " 0.17254815 0.17241664 0.17235515 0.17238159 0.17249794 0.17269586\n",
      " 0.17296156 0.17327954 0.17363493 0.17401521 0.17441046 0.17481361\n",
      " 0.17522019 0.17562748 0.17603417 0.17643961 0.1768436  0.17724584\n",
      " 0.17764576 0.1780428  0.17843595 0.17882414]\n",
      "28 day output [[0.17920628]]\n",
      "29 day input [0.19573764 0.18849576 0.19325471 0.19966894 0.1988413  0.20153114\n",
      " 0.2007035  0.19925512 0.19180633 0.20028968 0.21125595 0.21249741\n",
      " 0.20691082 0.22056694 0.21146286 0.20546245 0.19490999 0.17877095\n",
      " 0.17877095 0.17090834 0.16201117 0.17049452 0.174012   0.17856404\n",
      " 0.17732257 0.16511484 0.16470101 0.16987378 0.17380509 0.1721498\n",
      " 0.17173598 0.17794331 0.18001241 0.1874612  0.19325471 0.18663356\n",
      " 0.17421891 0.17711566 0.17318436 0.17380509 0.1663563  0.14938961\n",
      " 0.15187254 0.15352783 0.15145872 0.14649286 0.1491827  0.13242293\n",
      " 0.12849162 0.11793917 0.11628388 0.12290503 0.12725016 0.13490586\n",
      " 0.13345748 0.13242293 0.13056073 0.13242293 0.13138837 0.13987172\n",
      " 0.14938961 0.1568384  0.15145872 0.14318229 0.13449203 0.15394165\n",
      " 0.13242293 0.15352783 0.16656321 0.16656321 0.16987378 0.16870871\n",
      " 0.17149262 0.17252317 0.17283389 0.17283818 0.17271022 0.17254815\n",
      " 0.17241664 0.17235515 0.17238159 0.17249794 0.17269586 0.17296156\n",
      " 0.17327954 0.17363493 0.17401521 0.17441046 0.17481361 0.17522019\n",
      " 0.17562748 0.17603417 0.17643961 0.1768436  0.17724584 0.17764576\n",
      " 0.1780428  0.17843595 0.17882414 0.17920628]\n",
      "29 day output [[0.17958114]]\n",
      "[[0.1687087118625641], [0.17149262130260468], [0.17252317070960999], [0.1728338897228241], [0.17283818125724792], [0.17271022498607635], [0.17254814505577087], [0.17241664230823517], [0.17235514521598816], [0.17238159477710724], [0.1724979430437088], [0.17269586026668549], [0.17296156287193298], [0.1732795387506485], [0.17363493144512177], [0.17401520907878876], [0.17441046237945557], [0.17481361329555511], [0.17522019147872925], [0.17562748491764069], [0.17603416740894318], [0.17643961310386658], [0.17684359848499298], [0.1772458404302597], [0.1776457577943802], [0.17804279923439026], [0.17843595147132874], [0.17882414162158966], [0.17920628190040588], [0.17958113551139832]]\n"
     ]
    }
   ],
   "source": [
    "from numpy import array\n",
    "\n",
    "lst_output=[]\n",
    "n_steps=100\n",
    "nextNumberOfDays=30\n",
    "i=0\n",
    "\n",
    "while(i<nextNumberOfDays):\n",
    "    \n",
    "    if(len(temp_input)>100):\n",
    "        #print(temp_input)\n",
    "        x_input=np.array(temp_input[1:])\n",
    "        print(\"{} day input {}\".format(i,x_input))\n",
    "        x_input=x_input.reshape(1,-1)\n",
    "        x_input = x_input.reshape((1, n_steps, 1))\n",
    "        #print(x_input)\n",
    "        yhat = model.predict(x_input, verbose=0)\n",
    "        print(\"{} day output {}\".format(i,yhat))\n",
    "        temp_input.extend(yhat[0].tolist())\n",
    "        temp_input=temp_input[1:]\n",
    "        #print(temp_input)\n",
    "        lst_output.extend(yhat.tolist())\n",
    "        i=i+1\n",
    "    else:\n",
    "        x_input = x_input.reshape((1, n_steps,1))\n",
    "        yhat = model.predict(x_input, verbose=0)\n",
    "        print(yhat[0])\n",
    "        temp_input.extend(yhat[0].tolist())\n",
    "        print(len(temp_input))\n",
    "        lst_output.extend(yhat.tolist())\n",
    "        i=i+1\n",
    "print(lst_output)"
   ]
  },
  {
   "cell_type": "code",
   "execution_count": 45,
   "id": "b258001c",
   "metadata": {},
   "outputs": [],
   "source": [
    "day_new=np.arange(1,101)\n",
    "day_pred=np.arange(101,131)"
   ]
  },
  {
   "cell_type": "code",
   "execution_count": 46,
   "id": "5fb32d44",
   "metadata": {},
   "outputs": [],
   "source": [
    "import matplotlib.pyplot as plt"
   ]
  },
  {
   "cell_type": "code",
   "execution_count": 47,
   "id": "9d9eb2bb",
   "metadata": {},
   "outputs": [
    {
     "data": {
      "text/plain": [
       "2035"
      ]
     },
     "execution_count": 47,
     "metadata": {},
     "output_type": "execute_result"
    }
   ],
   "source": [
    "len(df_low)"
   ]
  },
  {
   "cell_type": "code",
   "execution_count": 48,
   "id": "be956fde",
   "metadata": {},
   "outputs": [
    {
     "data": {
      "image/png": "[encoded data removed]",
      "text/plain": [
       "<Figure size 432x288 with 1 Axes>"
      ]
     },
     "metadata": {
      "needs_background": "light"
     },
     "output_type": "display_data"
    }
   ],
   "source": [
    "plt.plot(day_new,scaler.inverse_transform(df_low[1935:]))\n",
    "plt.plot(day_pred,scaler.inverse_transform(lst_output))\n",
    "plt.show()"
   ]
  },
  {
   "cell_type": "code",
   "execution_count": 49,
   "id": "db76ced4",
   "metadata": {},
   "outputs": [
    {
     "data": {
      "image/png": "[encoded data removed]",
      "text/plain": [
       "<Figure size 432x288 with 1 Axes>"
      ]
     },
     "metadata": {
      "needs_background": "light"
     },
     "output_type": "display_data"
    }
   ],
   "source": [
    "df3=df_low.tolist()\n",
    "df3.extend(lst_output)\n",
    "plt.plot(df3[2000:])\n",
    "plt.show()"
   ]
  },
  {
   "cell_type": "code",
   "execution_count": 50,
   "id": "79359b0f",
   "metadata": {},
   "outputs": [],
   "source": [
    "df3=scaler.inverse_transform(df3).tolist()"
   ]
  },
  {
   "cell_type": "code",
   "execution_count": 51,
   "id": "4756a762",
   "metadata": {},
   "outputs": [
    {
     "data": {
      "image/png": "[encoded data removed]",
      "text/plain": [
       "<Figure size 432x288 with 1 Axes>"
      ]
     },
     "metadata": {
      "needs_background": "light"
     },
     "output_type": "display_data"
    }
   ],
   "source": [
    "plt.plot(df3)\n",
    "plt.show()\n"
   ]
  },
  {
   "cell_type": "markdown",
   "id": "68ef25be",
   "metadata": {},
   "source": [
    "## -----END-----"
   ]
  },
  {
   "cell_type": "code",
   "execution_count": null,
   "id": "bb82f7f3",
   "metadata": {},
   "outputs": [],
   "source": []
  }
 ],
 "metadata": {
  "kernelspec": {
   "display_name": "Python 3 (ipykernel)",
   "language": "python",
   "name": "python3"
  },
  "language_info": {
   "codemirror_mode": {
    "name": "ipython",
    "version": 3
   },
   "file_extension": ".py",
   "mimetype": "text/x-python",
   "name": "python",
   "nbconvert_exporter": "python",
   "pygments_lexer": "ipython3",
   "version": "3.9.7"
  }
 },
 "nbformat": 4,
 "nbformat_minor": 5
}
